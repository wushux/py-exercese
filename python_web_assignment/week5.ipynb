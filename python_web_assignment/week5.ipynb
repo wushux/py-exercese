{
 "cells": [
  {
   "cell_type": "code",
   "execution_count": 1,
   "metadata": {
    "collapsed": true
   },
   "outputs": [],
   "source": [
    "import xml.etree.ElementTree as ET"
   ]
  },
  {
   "cell_type": "code",
   "execution_count": 2,
   "metadata": {
    "collapsed": true
   },
   "outputs": [],
   "source": [
    "data = '''\n",
    "<person>\n",
    "  <name>Chuck</name>\n",
    "  <phone type=\"intl\">\n",
    "     +1 734 303 4456\n",
    "   </phone>\n",
    "   <email hide=\"yes\"/>\n",
    "</person>'''"
   ]
  },
  {
   "cell_type": "code",
   "execution_count": 3,
   "metadata": {
    "collapsed": false
   },
   "outputs": [
    {
     "name": "stdout",
     "output_type": "stream",
     "text": [
      "Name: Chuck\n",
      "Attr: yes\n"
     ]
    }
   ],
   "source": [
    "tree = ET.fromstring(data)\n",
    "print 'Name:',tree.find('name').text\n",
    "print 'Attr:',tree.find('email').get('hide')"
   ]
  },
  {
   "cell_type": "code",
   "execution_count": 4,
   "metadata": {
    "collapsed": true
   },
   "outputs": [],
   "source": [
    "input = '''\n",
    "<stuff>\n",
    "    <users>\n",
    "        <user x=\"2\">\n",
    "            <id>001</id>\n",
    "            <name>Chuck</name>\n",
    "        </user>\n",
    "        <user x=\"7\">\n",
    "            <id>009</id>\n",
    "            <name>Brent</name>\n",
    "            </user>\n",
    "        </users>\n",
    "</stuff>'''"
   ]
  },
  {
   "cell_type": "code",
   "execution_count": 5,
   "metadata": {
    "collapsed": false
   },
   "outputs": [
    {
     "name": "stdout",
     "output_type": "stream",
     "text": [
      "User count: 2\n",
      "Name Chuck\n",
      "Id 001\n",
      "Attribute 2\n",
      "Name Brent\n",
      "Id 009\n",
      "Attribute 7\n"
     ]
    }
   ],
   "source": [
    "stuff = ET.fromstring(input)\n",
    "lst = stuff.findall('users/user')\n",
    "print 'User count:', len(lst)\n",
    "\n",
    "for item in lst:\n",
    "    print 'Name', item.find('name').text\n",
    "    print 'Id', item.find('id').text\n",
    "    print 'Attribute', item.get(\"x\")\n"
   ]
  },
  {
   "cell_type": "markdown",
   "metadata": {},
   "source": [
    "## Assignment"
   ]
  },
  {
   "cell_type": "code",
   "execution_count": 6,
   "metadata": {
    "collapsed": true
   },
   "outputs": [],
   "source": [
    "import urllib\n",
    "import xml.etree.ElementTree as ET"
   ]
  },
  {
   "cell_type": "code",
   "execution_count": 34,
   "metadata": {
    "collapsed": false,
    "scrolled": false
   },
   "outputs": [
    {
     "name": "stdout",
     "output_type": "stream",
     "text": [
      "Enter location: http://python-data.dr-chuck.net/comments_42.xml\n",
      "Retrieving http://python-data.dr-chuck.net/comments_42.xml\n",
      "Retrieved 4189 characters\n",
      "Count:  50\n",
      "Count 97\n",
      "Count 97\n",
      "Count 90\n",
      "Count 90\n",
      "Count 88\n",
      "Count 87\n",
      "Count 87\n",
      "Count 80\n",
      "Count 79\n",
      "Count 79\n",
      "Count 78\n",
      "Count 76\n",
      "Count 76\n",
      "Count 72\n",
      "Count 72\n",
      "Count 66\n",
      "Count 66\n",
      "Count 65\n",
      "Count 65\n",
      "Count 64\n",
      "Count 61\n",
      "Count 61\n",
      "Count 59\n",
      "Count 58\n",
      "Count 57\n",
      "Count 57\n",
      "Count 54\n",
      "Count 51\n",
      "Count 49\n",
      "Count 47\n",
      "Count 40\n",
      "Count 38\n",
      "Count 37\n",
      "Count 36\n",
      "Count 36\n",
      "Count 32\n",
      "Count 25\n",
      "Count 24\n",
      "Count 22\n",
      "Count 21\n",
      "Count 19\n",
      "Count 18\n",
      "Count 18\n",
      "Count 14\n",
      "Count 12\n",
      "Count 12\n",
      "Count 9\n",
      "Count 7\n",
      "Count 3\n",
      "Count 2\n"
     ]
    }
   ],
   "source": [
    "while True:\n",
    "    url=raw_input('Enter location: ')\n",
    "    if len(address)<1: break\n",
    "        \n",
    "    print 'Retrieving', url\n",
    "#'http://python-data.dr-chuck.net/comments_42.xml'\n",
    "    data=urllib.urlopen(url).read()\n",
    "    print 'Retrieved',len(data),'characters'\n",
    "    comments=ET.fromstring(data)\n",
    "    comlist=comments.findall('comments/comment')\n",
    "    counts = comments.findall('.//count')\n",
    "    print 'Count: ',len(counts)\n",
    "    numlist=list()\n",
    "    for nu in comlist:\n",
    "         item.find('count').text\n",
    "        \n",
    "        #numlist.append(num)\n",
    "    #print 'Sum: ',sum(numlist)\n",
    "    break"
   ]
  },
  {
   "cell_type": "code",
   "execution_count": null,
   "metadata": {
    "collapsed": true
   },
   "outputs": [],
   "source": [
    "http://python-data.dr-chuck.net/comments_42.xml"
   ]
  }
 ],
 "metadata": {
  "kernelspec": {
   "display_name": "Python 2",
   "language": "python",
   "name": "python2"
  },
  "language_info": {
   "codemirror_mode": {
    "name": "ipython",
    "version": 2
   },
   "file_extension": ".py",
   "mimetype": "text/x-python",
   "name": "python",
   "nbconvert_exporter": "python",
   "pygments_lexer": "ipython2",
   "version": "2.7.11"
  }
 },
 "nbformat": 4,
 "nbformat_minor": 0
}
