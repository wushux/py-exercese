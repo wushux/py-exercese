{
 "cells": [
  {
   "cell_type": "markdown",
   "metadata": {},
   "source": [
    "## assignment 1"
   ]
  },
  {
   "cell_type": "code",
   "execution_count": null,
   "metadata": {
    "collapsed": false
   },
   "outputs": [],
   "source": [
    "from urllib.request import urlopen\n",
    "from bs4 import BeautifulSoup"
   ]
  },
  {
   "cell_type": "code",
   "execution_count": null,
   "metadata": {
    "collapsed": false
   },
   "outputs": [],
   "source": [
    "url=input('Enter-')"
   ]
  },
  {
   "cell_type": "code",
   "execution_count": null,
   "metadata": {
    "collapsed": false
   },
   "outputs": [],
   "source": [
    "html = urlopen(url).read()\n",
    "soup=BeautifulSoup(html,\"lxml\")\n",
    "tags=soup('span')\n",
    "numlist=list()\n",
    "for tag in tags:\n",
    "    for num in tag.contents:\n",
    "        num=int(num)\n",
    "        numlist.append(num)"
   ]
  },
  {
   "cell_type": "code",
   "execution_count": null,
   "metadata": {
    "collapsed": false
   },
   "outputs": [],
   "source": [
    "sum(numlist)"
   ]
  },
  {
   "cell_type": "markdown",
   "metadata": {},
   "source": [
    "## Assignment 2"
   ]
  },
  {
   "cell_type": "code",
   "execution_count": 4,
   "metadata": {
    "collapsed": false
   },
   "outputs": [],
   "source": [
    "from urllib.request import urlopen\n",
    "from bs4 import BeautifulSoup\n",
    "import re"
   ]
  },
  {
   "cell_type": "code",
   "execution_count": 5,
   "metadata": {
    "collapsed": false,
    "scrolled": true
   },
   "outputs": [
    {
     "name": "stdout",
     "output_type": "stream",
     "text": [
      "Enter URL: http://python-data.dr-chuck.net/known_by_Ellen.html \n",
      "Enter count: 7\n",
      "Enter position: 18\n"
     ]
    }
   ],
   "source": [
    "url=input('Enter URL: ')\n",
    "count=int(input('Enter count: '))\n",
    "pos=int(input('Enter position: '))\n",
    "#http://python-data.dr-chuck.net/known_by_Fikret.html "
   ]
  },
  {
   "cell_type": "code",
   "execution_count": 6,
   "metadata": {
    "collapsed": false
   },
   "outputs": [
    {
     "name": "stdout",
     "output_type": "stream",
     "text": [
      "Retrieving: http://python-data.dr-chuck.net/known_by_Chanel.html\n",
      "['Chanel']\n",
      "Retrieving: http://python-data.dr-chuck.net/known_by_Zi.html\n",
      "['Zi']\n",
      "Retrieving: http://python-data.dr-chuck.net/known_by_Christian.html\n",
      "['Christian']\n",
      "Retrieving: http://python-data.dr-chuck.net/known_by_Keleigh.html\n",
      "['Keleigh']\n",
      "Retrieving: http://python-data.dr-chuck.net/known_by_Kallin.html\n",
      "['Kallin']\n",
      "Retrieving: http://python-data.dr-chuck.net/known_by_Hena.html\n",
      "['Hena']\n",
      "Retrieving: http://python-data.dr-chuck.net/known_by_Asritha.html\n",
      "['Asritha']\n"
     ]
    }
   ],
   "source": [
    "for i in range(count):\n",
    "    linklist=list()\n",
    "    html = urlopen(url).read()\n",
    "    soup=BeautifulSoup(html,\"lxml\")\n",
    "    tags=soup('a')\n",
    "    for tag in tags:\n",
    "        tag=tag.get('href')\n",
    "        linklist.append(tag)\n",
    "    if(len(linklist)!=0):\n",
    "        url=linklist[pos-1]\n",
    "    else:\n",
    "        url=url\n",
    "    print('Retrieving: '+linklist[pos-1])\n",
    "    name=re.findall('known_by_([A-z]+)',linklist[pos-1])\n",
    "    print(name)"
   ]
  },
  {
   "cell_type": "code",
   "execution_count": 3,
   "metadata": {
    "collapsed": false
   },
   "outputs": [
    {
     "name": "stdout",
     "output_type": "stream",
     "text": [
      "Retrieving: http://python-data.dr-chuck.net/known_by_Montgomery.html\n",
      "['Montgomery']\n",
      "Retrieving: http://python-data.dr-chuck.net/known_by_Mhairade.html\n",
      "['Mhairade']\n",
      "Retrieving: http://python-data.dr-chuck.net/known_by_Butchi.html\n",
      "['Butchi']\n",
      "Retrieving: http://python-data.dr-chuck.net/known_by_Anayah.html\n",
      "['Anayah']\n"
     ]
    }
   ],
   "source": [
    "for i in range(count):\n",
    "    linklist=list()\n",
    "    html = urlopen(url).read()\n",
    "    soup=BeautifulSoup(html,\"lxml\")\n",
    "    tags=soup('a')\n",
    "\n",
    "    if(len(linklist)!=0):\n",
    "        url=linklist[pos-1]\n",
    "        for tag in tags:\n",
    "            tag=tag.get('href')\n",
    "            linklist.append(tag)\n",
    "        print('Retrieving: '+linklist[pos-1])\n",
    "        name=re.findall('known_by_([A-z]+)',linklist[pos-1])\n",
    "        print(name)\n",
    "    else:\n",
    "        url=url\n",
    "        print('Retrieving: '+url)\n",
    "        name=re.findall('known_by_([A-z]+)',url)\n",
    "        print(name)\n",
    "   "
   ]
  },
  {
   "cell_type": "code",
   "execution_count": null,
   "metadata": {
    "collapsed": true
   },
   "outputs": [],
   "source": []
  }
 ],
 "metadata": {
  "kernelspec": {
   "display_name": "Python 3",
   "language": "python",
   "name": "python3"
  },
  "language_info": {
   "codemirror_mode": {
    "name": "ipython",
    "version": 3
   },
   "file_extension": ".py",
   "mimetype": "text/x-python",
   "name": "python",
   "nbconvert_exporter": "python",
   "pygments_lexer": "ipython3",
   "version": "3.5.1"
  }
 },
 "nbformat": 4,
 "nbformat_minor": 0
}
