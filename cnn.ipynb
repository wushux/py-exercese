{
 "cells": [
  {
   "cell_type": "code",
   "execution_count": 1,
   "metadata": {
    "collapsed": false,
    "scrolled": false
   },
   "outputs": [],
   "source": [
    "import matplotlib\n",
    "import matplotlib.pyplot as plt\n",
    "import matplotlib.cm as cm\n",
    "from urllib import urlretrieve\n",
    "import cPickle as pickle\n",
    "import os\n",
    "import gzip\n",
    "import numpy as np\n",
    "import theano\n",
    "import lasagne\n",
    "from lasagne import layers\n",
    "from lasagne.updates import nesterov_momentum\n",
    "from nolearn.lasagne import NeuralNet\n",
    "from nolearn.lasagne import visualize\n",
    "from sklearn.metrics import classification_report\n",
    "from sklearn.metrics import confusion_matrix"
   ]
  },
  {
   "cell_type": "markdown",
   "metadata": {},
   "source": [
    "# Load Cifar-10"
   ]
  },
  {
   "cell_type": "code",
   "execution_count": 4,
   "metadata": {
    "collapsed": true
   },
   "outputs": [],
   "source": [
    "def unpickle(file):\n",
    "    import cPickle\n",
    "    fo = open(file, 'rb')\n",
    "    dict = cPickle.load(fo)\n",
    "    fo.close()\n",
    "    return dict"
   ]
  },
  {
   "cell_type": "code",
   "execution_count": 3,
   "metadata": {
    "collapsed": true
   },
   "outputs": [],
   "source": [
    "batch1=unpickle('cifar-10-batches-py/data_batch_1')\n",
    "batch2=unpickle('cifar-10-batches-py/data_batch_2')\n",
    "batch3=unpickle('cifar-10-batches-py/data_batch_3')\n",
    "batch4=unpickle('cifar-10-batches-py/data_batch_4')\n",
    "batch5=unpickle('cifar-10-batches-py/data_batch_5')\n",
    "testbatch=unpickle('cifar-10-batches-py/test_batch')"
   ]
  },
  {
   "cell_type": "code",
   "execution_count": 4,
   "metadata": {
    "collapsed": false
   },
   "outputs": [],
   "source": [
    "X_train=np.concatenate((batch1[b'data'],batch2[b'data'],batch3[b'data'],batch4[b'data'],batch5[b'data']),axis=0)\n",
    "y_train=np.concatenate((batch1[b'labels'],batch2[b'labels'],batch3[b'labels'],batch4[b'labels'],batch5[b'labels']),axis=0)\n",
    "#X_val, y_val, \n",
    "X_test=testbatch[b'data']\n",
    "y_test=testbatch[b'labels']"
   ]
  },
  {
   "cell_type": "code",
   "execution_count": 5,
   "metadata": {
    "collapsed": true
   },
   "outputs": [],
   "source": [
    "labelname=unpickle('cifar-10-batches-py/batches.meta')"
   ]
  },
  {
   "cell_type": "code",
   "execution_count": 7,
   "metadata": {
    "collapsed": false
   },
   "outputs": [
    {
     "data": {
      "text/plain": [
       "['airplane',\n",
       " 'automobile',\n",
       " 'bird',\n",
       " 'cat',\n",
       " 'deer',\n",
       " 'dog',\n",
       " 'frog',\n",
       " 'horse',\n",
       " 'ship',\n",
       " 'truck']"
      ]
     },
     "execution_count": 7,
     "metadata": {},
     "output_type": "execute_result"
    }
   ],
   "source": [
    "labelname['label_names']"
   ]
  },
  {
   "cell_type": "markdown",
   "metadata": {
    "collapsed": false
   },
   "source": [
    "X_train -= np.mean(X_train, axis = 0).astype(X_train.dtype) # zero-center\n",
    "X_train /= np.std(X_train, axis = 0).astype(X_train.dtype)"
   ]
  },
  {
   "cell_type": "markdown",
   "metadata": {
    "collapsed": true
   },
   "source": [
    "def whiten(X,fudge=1E-18):\n",
    "\n",
    "   # the matrix X should be observations-by-components\n",
    "\n",
    "   # get the covariance matrix\n",
    "   Xcov = np.dot(X.T,X)\n",
    "\n",
    "   # eigenvalue decomposition of the covariance matrix\n",
    "   d, V = np.linalg.eigh(Xcov)\n",
    "\n",
    "   # a fudge factor can be used so that eigenvectors associated with\n",
    "   # small eigenvalues do not get overamplified.\n",
    "   D = np.diag(1. / np.sqrt(d+fudge))\n",
    "\n",
    "   # whitening matrix\n",
    "   W = np.dot(np.dot(V, D), V.T)\n",
    "\n",
    "   # multiply by the whitening matrix\n",
    "   X_white = np.dot(X, W)\n",
    "\n",
    "   return X_white, W\n"
   ]
  },
  {
   "cell_type": "markdown",
   "metadata": {},
   "source": [
    "def svd_whiten(X):\n",
    "\n",
    "    U, s, Vt = np.linalg.svd(X)\n",
    "\n",
    "    # U and Vt are the singular matrices, and s contains the singular values.\n",
    "    # Since the rows of both U and Vt are orthonormal vectors, then U * Vt\n",
    "    # will be white\n",
    "    X_white = np.dot(U, Vt)\n",
    "\n",
    "    return X_white\n"
   ]
  },
  {
   "cell_type": "markdown",
   "metadata": {},
   "source": [
    "X_pca=[]\n",
    "for x in new_X_train:\n",
    "    x=whiten(x)\n",
    "    X_pca.append(x)"
   ]
  },
  {
   "cell_type": "markdown",
   "metadata": {},
   "source": [
    "X_svd=[]\n",
    "for x in new_X_train:\n",
    "    x=svd_whiten(x)\n",
    "    X_svd.append(x)"
   ]
  },
  {
   "cell_type": "markdown",
   "metadata": {
    "collapsed": false
   },
   "source": [
    "cov = np.dot(X_train.T, X_train) / X_train.shape[0]"
   ]
  },
  {
   "cell_type": "markdown",
   "metadata": {},
   "source": [
    "## CNN without Data Preprocessing"
   ]
  },
  {
   "cell_type": "code",
   "execution_count": 15,
   "metadata": {
    "collapsed": true
   },
   "outputs": [],
   "source": [
    "X_train1=np.array(X_train)\n",
    "X_train1=np.reshape(X_train, (-1,3,32,32), order='F')\n",
    "y_train=np.array(y_train)\n",
    "y_train= y_train.astype(np.int32) "
   ]
  },
  {
   "cell_type": "code",
   "execution_count": 16,
   "metadata": {
    "collapsed": true
   },
   "outputs": [],
   "source": [
    "net1 = NeuralNet(\n",
    "    layers=[('input', layers.InputLayer),\n",
    "            ('conv2d1', layers.Conv2DLayer),\n",
    "            ('maxpool1', layers.MaxPool2DLayer),\n",
    "            ('conv2d2', layers.Conv2DLayer),\n",
    "            ('maxpool2', layers.MaxPool2DLayer),\n",
    "            #('conv2d3', layers.Conv2DLayer),\n",
    "            #('maxpool3', layers.MaxPool2DLayer),\n",
    "            ('dropout1', layers.DropoutLayer),\n",
    "            ('dense', layers.DenseLayer),\n",
    "            ('dropout2', layers.DropoutLayer),\n",
    "            ('output', layers.DenseLayer),\n",
    "            ],\n",
    "    # input layer\n",
    "    input_shape=(None, 3, 32, 32),\n",
    "    # layer conv2d1\n",
    "    conv2d1_num_filters=32,\n",
    "    conv2d1_filter_size=(3, 3),\n",
    "    conv2d1_nonlinearity=lasagne.nonlinearities.rectify,\n",
    "    conv2d1_W=lasagne.init.GlorotUniform(),  \n",
    "    # layer maxpool1\n",
    "    maxpool1_pool_size=(2, 2),    \n",
    "    # layer conv2d2\n",
    "    conv2d2_num_filters=64,\n",
    "    conv2d2_filter_size=(3, 3),\n",
    "    conv2d2_nonlinearity=lasagne.nonlinearities.rectify,\n",
    "    # layer maxpool2\n",
    "    maxpool2_pool_size=(2, 2),\n",
    "    # layer conv2d3\n",
    "    #conv2d3_num_filters=128,\n",
    "    #conv2d3_filter_size=(3, 3),\n",
    "    #conv2d3_nonlinearity=lasagne.nonlinearities.rectify,\n",
    "    # layer maxpool3\n",
    "    #maxpool3_pool_size=(2, 2),\n",
    "    # dropout1\n",
    "    dropout1_p=0.5,    \n",
    "    # dense\n",
    "    dense_num_units=256,\n",
    "    dense_nonlinearity=lasagne.nonlinearities.rectify,    \n",
    "    # dropout2\n",
    "    dropout2_p=0.5,    \n",
    "    # output\n",
    "    output_nonlinearity=lasagne.nonlinearities.softmax,\n",
    "    output_num_units=10,\n",
    "    # optimization method params\n",
    "    update=nesterov_momentum,\n",
    "    update_learning_rate=0.01,\n",
    "    update_momentum=0.9,\n",
    "    max_epochs=10,\n",
    "    verbose=1,\n",
    "    )"
   ]
  },
  {
   "cell_type": "code",
   "execution_count": 17,
   "metadata": {
    "collapsed": false
   },
   "outputs": [
    {
     "name": "stdout",
     "output_type": "stream",
     "text": [
      "# Neural Network with 612042 learnable parameters\n",
      "\n",
      "## Layer information\n",
      "\n",
      "  #  name      size\n",
      "---  --------  --------\n",
      "  0  input     3x32x32\n",
      "  1  conv2d1   32x30x30\n",
      "  2  maxpool1  32x15x15\n",
      "  3  conv2d2   64x13x13\n",
      "  4  maxpool2  64x6x6\n",
      "  5  dropout1  64x6x6\n",
      "  6  dense     256\n",
      "  7  dropout2  256\n",
      "  8  output    10\n",
      "\n",
      "  epoch     trn loss    val loss      trn/val    valid acc  dur\n",
      "-------  -----------  ----------  -----------  -----------  ------\n",
      "      1  \u001b[36m89376.60280\u001b[0m     \u001b[32m2.30269\u001b[0m  38813.96232      0.10000  98.04s\n",
      "      2     \u001b[36m2.30293\u001b[0m     \u001b[32m2.30267\u001b[0m    1.00011      0.10000  104.02s\n",
      "      3     \u001b[36m2.30292\u001b[0m     \u001b[32m2.30267\u001b[0m    1.00011      0.10000  102.03s\n",
      "      4     \u001b[36m2.30292\u001b[0m     \u001b[32m2.30267\u001b[0m    1.00011      0.10000  102.73s\n",
      "      5     \u001b[36m2.30292\u001b[0m     \u001b[32m2.30267\u001b[0m    1.00011      0.10000  105.33s\n",
      "      6     \u001b[36m2.30292\u001b[0m     \u001b[32m2.30267\u001b[0m    1.00011      0.10000  109.48s\n",
      "      7     \u001b[36m2.30292\u001b[0m     \u001b[32m2.30267\u001b[0m    1.00011      0.10000  102.87s\n",
      "      8     \u001b[36m2.30292\u001b[0m     \u001b[32m2.30267\u001b[0m    1.00011      0.10000  105.37s\n",
      "      9     \u001b[36m2.30292\u001b[0m     \u001b[32m2.30267\u001b[0m    1.00011      0.10000  104.26s\n",
      "     10     \u001b[36m2.30292\u001b[0m     2.30267    1.00011      0.10000  105.83s\n"
     ]
    }
   ],
   "source": [
    "nn1 = net1.fit(X_train1, y_train)"
   ]
  },
  {
   "cell_type": "code",
   "execution_count": 22,
   "metadata": {
    "collapsed": true
   },
   "outputs": [],
   "source": [
    "X_train_rescaling=X_train1/255"
   ]
  },
  {
   "cell_type": "code",
   "execution_count": 23,
   "metadata": {
    "collapsed": false
   },
   "outputs": [],
   "source": [
    "net2 = NeuralNet(\n",
    "    layers=[('input', layers.InputLayer),\n",
    "            ('conv2d1', layers.Conv2DLayer),\n",
    "            ('maxpool1', layers.MaxPool2DLayer),\n",
    "            ('conv2d2', layers.Conv2DLayer),\n",
    "            ('maxpool2', layers.MaxPool2DLayer),\n",
    "            #('conv2d3', layers.Conv2DLayer),\n",
    "            #('maxpool3', layers.MaxPool2DLayer),\n",
    "            ('dropout1', layers.DropoutLayer),\n",
    "            ('dense', layers.DenseLayer),\n",
    "            ('dropout2', layers.DropoutLayer),\n",
    "            ('output', layers.DenseLayer),\n",
    "            ],\n",
    "    # input layer\n",
    "    input_shape=(None, 3, 32, 32),\n",
    "    # layer conv2d1\n",
    "    conv2d1_num_filters=32,\n",
    "    conv2d1_filter_size=(3, 3),\n",
    "    conv2d1_nonlinearity=lasagne.nonlinearities.rectify,\n",
    "    conv2d1_W=lasagne.init.GlorotUniform(),  \n",
    "    # layer maxpool1\n",
    "    maxpool1_pool_size=(2, 2),    \n",
    "    # layer conv2d2\n",
    "    conv2d2_num_filters=64,\n",
    "    conv2d2_filter_size=(3, 3),\n",
    "    conv2d2_nonlinearity=lasagne.nonlinearities.rectify,\n",
    "    # layer maxpool2\n",
    "    maxpool2_pool_size=(2, 2),\n",
    "    # layer conv2d3\n",
    "    #conv2d3_num_filters=96,\n",
    "    #conv2d3_filter_size=(3, 3),\n",
    "    #conv2d3_nonlinearity=lasagne.nonlinearities.rectify,\n",
    "    # layer maxpool3\n",
    "    #maxpool3_pool_size=(2, 2),\n",
    "    # dropout1\n",
    "    dropout1_p=0.5,    \n",
    "    # dense\n",
    "    dense_num_units=256,\n",
    "    dense_nonlinearity=lasagne.nonlinearities.rectify,    \n",
    "    # dropout2\n",
    "    dropout2_p=0.5,    \n",
    "    # output\n",
    "    output_nonlinearity=lasagne.nonlinearities.softmax,\n",
    "    output_num_units=10,\n",
    "    # optimization method params\n",
    "    update=nesterov_momentum,\n",
    "    update_learning_rate=0.01,\n",
    "    update_momentum=0.9,\n",
    "    max_epochs=10,\n",
    "    verbose=1,\n",
    "    )"
   ]
  },
  {
   "cell_type": "code",
   "execution_count": 24,
   "metadata": {
    "collapsed": false
   },
   "outputs": [
    {
     "name": "stdout",
     "output_type": "stream",
     "text": [
      "# Neural Network with 612042 learnable parameters\n",
      "\n",
      "## Layer information\n",
      "\n",
      "  #  name      size\n",
      "---  --------  --------\n",
      "  0  input     3x32x32\n",
      "  1  conv2d1   32x30x30\n",
      "  2  maxpool1  32x15x15\n",
      "  3  conv2d2   64x13x13\n",
      "  4  maxpool2  64x6x6\n",
      "  5  dropout1  64x6x6\n",
      "  6  dense     256\n",
      "  7  dropout2  256\n",
      "  8  output    10\n",
      "\n",
      "  epoch    trn loss    val loss    trn/val    valid acc  dur\n",
      "-------  ----------  ----------  ---------  -----------  -------\n",
      "      1     \u001b[36m2.28813\u001b[0m     \u001b[32m2.26828\u001b[0m    1.00875      0.13230  100.13s\n",
      "      2     \u001b[36m2.26901\u001b[0m     \u001b[32m2.25030\u001b[0m    1.00831      0.13870  96.89s\n",
      "      3     \u001b[36m2.25857\u001b[0m     \u001b[32m2.23897\u001b[0m    1.00876      0.15830  96.29s\n",
      "      4     \u001b[36m2.25045\u001b[0m     \u001b[32m2.23178\u001b[0m    1.00837      0.16170  96.52s\n",
      "      5     \u001b[36m2.24470\u001b[0m     \u001b[32m2.22631\u001b[0m    1.00826      0.16420  97.27s\n",
      "      6     \u001b[36m2.24052\u001b[0m     \u001b[32m2.22292\u001b[0m    1.00792      0.16570  96.43s\n",
      "      7     \u001b[36m2.23681\u001b[0m     \u001b[32m2.21985\u001b[0m    1.00764      0.16440  96.86s\n",
      "      8     \u001b[36m2.23351\u001b[0m     \u001b[32m2.21763\u001b[0m    1.00716      0.16600  96.54s\n",
      "      9     \u001b[36m2.23059\u001b[0m     \u001b[32m2.21570\u001b[0m    1.00672      0.16570  97.14s\n",
      "     10     \u001b[36m2.22803\u001b[0m     \u001b[32m2.21447\u001b[0m    1.00613      0.16880  102.67s\n"
     ]
    }
   ],
   "source": [
    "nn2 = net2.fit(X_train_rescaling, y_train)"
   ]
  },
  {
   "cell_type": "markdown",
   "metadata": {},
   "source": [
    "# Data Preprocessing\n",
    "#### RGB to single grayscale\n",
    "#### Flatten grayscale\n",
    "#### ZCA_Whitening/PCA_Whitening"
   ]
  },
  {
   "cell_type": "code",
   "execution_count": 8,
   "metadata": {
    "collapsed": true
   },
   "outputs": [],
   "source": [
    "def rgb2gray(rgb):\n",
    "    return np.dot(rgb[...,:3], [0.299, 0.587, 0.114])\n",
    "\n",
    "def flatten_matrix(matrix):\n",
    "    vector = matrix.flatten(1)\n",
    "    vector = vector.reshape(1, len(vector))\n",
    "    return vector    "
   ]
  },
  {
   "cell_type": "code",
   "execution_count": 9,
   "metadata": {
    "collapsed": false
   },
   "outputs": [
    {
     "name": "stderr",
     "output_type": "stream",
     "text": [
      "/Users/Shuxian/anaconda/envs/py27/lib/python2.7/site-packages/ipykernel/__main__.py:5: DeprecationWarning: Non-string object detected for the array ordering. Please pass in 'C', 'F', 'A', or 'K' instead\n"
     ]
    }
   ],
   "source": [
    "new_X_train=[]\n",
    "for img in X_train:\n",
    "    img=np.reshape(img, (32,32,3), order='F')\n",
    "    gray=flatten_matrix(rgb2gray(img)/255)\n",
    "    new_X_train.append(gray)"
   ]
  },
  {
   "cell_type": "code",
   "execution_count": 10,
   "metadata": {
    "collapsed": true
   },
   "outputs": [],
   "source": [
    "def zca_whitening(inputs):\n",
    "    sigma = np.dot(inputs, inputs.T)/inputs.shape[1] #Correlation matrix\n",
    "    U,S,V = np.linalg.svd(sigma) #Singular Value Decomposition\n",
    "    epsilon = 0.1                #Whitening constant, it prevents division by zero\n",
    "    ZCAMatrix = np.dot(np.dot(U, np.diag(1.0/np.sqrt(np.diag(S) + epsilon))), U.T) #ZCA Whitening matrix\n",
    "    return np.dot(ZCAMatrix, inputs)   #Data whitening"
   ]
  },
  {
   "cell_type": "code",
   "execution_count": 11,
   "metadata": {
    "collapsed": false
   },
   "outputs": [],
   "source": [
    "new_X_train=np.asarray(new_X_train)\n",
    "X_zca=[]\n",
    "for x in new_X_train:\n",
    "    x=zca_whitening(x)\n",
    "    X_zca.append(x)"
   ]
  },
  {
   "cell_type": "code",
   "execution_count": 12,
   "metadata": {
    "collapsed": false
   },
   "outputs": [],
   "source": [
    "X_zca=np.array(X_zca)\n",
    "X_zca=np.reshape(X_zca,(-1,1,32,32))"
   ]
  },
  {
   "cell_type": "code",
   "execution_count": 11,
   "metadata": {
    "collapsed": false
   },
   "outputs": [],
   "source": [
    "img=np.reshape(X_train[0], (32,32,3), order='F')\n",
    "gray = rgb2gray(img)/255\n",
    "#img = mpimg.imread('image.png')\n",
    "plt.subplot(1, 2, 1); \n",
    "plt.axis('off');\n",
    "plt.imshow(img);\n",
    "\n",
    "plt.subplot(1, 2, 2); \n",
    "plt.axis('off');\n",
    "plt.imshow(gray, cmap = plt.get_cmap('gray'));\n",
    "\n",
    "#plt.subplot(1, 3, 3); \n",
    "#plt.axis('off');\n",
    "#plt.imshow(X_zca[0],cmap=cm.binary);\n",
    "\n",
    "plt.show()"
   ]
  },
  {
   "cell_type": "code",
   "execution_count": 13,
   "metadata": {
    "collapsed": true
   },
   "outputs": [],
   "source": [
    "net3 = NeuralNet(\n",
    "    layers=[('input', layers.InputLayer),\n",
    "            ('conv2d1', layers.Conv2DLayer),\n",
    "            ('maxpool1', layers.MaxPool2DLayer),\n",
    "            ('conv2d2', layers.Conv2DLayer),\n",
    "            ('maxpool2', layers.MaxPool2DLayer),\n",
    "            # ('conv2d3', layers.Conv2DLayer),\n",
    "            # ('maxpool3', layers.MaxPool2DLayer),\n",
    "            ('dropout1', layers.DropoutLayer),\n",
    "            ('dense', layers.DenseLayer),\n",
    "            ('dropout2', layers.DropoutLayer),\n",
    "            ('output', layers.DenseLayer),\n",
    "            ],\n",
    "    # input layer\n",
    "    input_shape=(None, 1, 32, 32),\n",
    "    # layer conv2d1\n",
    "    conv2d1_num_filters=32,\n",
    "    conv2d1_filter_size=(3, 3),\n",
    "    conv2d1_nonlinearity=lasagne.nonlinearities.rectify,\n",
    "    conv2d1_W=lasagne.init.GlorotUniform(),  \n",
    "    # layer maxpool1\n",
    "    maxpool1_pool_size=(2, 2),    \n",
    "    # layer conv2d2\n",
    "    conv2d2_num_filters=64,\n",
    "    conv2d2_filter_size=(3, 3),\n",
    "    conv2d2_nonlinearity=lasagne.nonlinearities.rectify,\n",
    "    # layer maxpool2\n",
    "    maxpool2_pool_size=(2, 2),\n",
    "    # layer conv2d3\n",
    "    # conv2d3_num_filters=96,\n",
    "    # conv2d3_filter_size=(3, 3),\n",
    "    # conv2d3_nonlinearity=lasagne.nonlinearities.rectify,\n",
    "    # layer maxpool3\n",
    "    # maxpool3_pool_size=(2, 2),\n",
    "    # dropout1\n",
    "    dropout1_p=0.2,    \n",
    "    # dense\n",
    "    dense_num_units=256,\n",
    "    dense_nonlinearity=lasagne.nonlinearities.rectify,    \n",
    "    # dropout2\n",
    "    dropout2_p=0.2,    \n",
    "    # output\n",
    "    output_nonlinearity=lasagne.nonlinearities.softmax,\n",
    "    output_num_units=10,\n",
    "    # optimization method params\n",
    "    update=nesterov_momentum,\n",
    "    update_learning_rate=0.005,\n",
    "    update_momentum=0.9,\n",
    "    max_epochs=15,\n",
    "    verbose=1,\n",
    "    )"
   ]
  },
  {
   "cell_type": "code",
   "execution_count": 16,
   "metadata": {
    "collapsed": false,
    "scrolled": true
   },
   "outputs": [
    {
     "name": "stdout",
     "output_type": "stream",
     "text": [
      "# Neural Network with 611466 learnable parameters\n",
      "\n",
      "## Layer information\n",
      "\n",
      "  #  name      size\n",
      "---  --------  --------\n",
      "  0  input     1x32x32\n",
      "  1  conv2d1   32x30x30\n",
      "  2  maxpool1  32x15x15\n",
      "  3  conv2d2   64x13x13\n",
      "  4  maxpool2  64x6x6\n",
      "  5  dropout1  64x6x6\n",
      "  6  dense     256\n",
      "  7  dropout2  256\n",
      "  8  output    10\n",
      "\n",
      "  epoch    trn loss    val loss    trn/val    valid acc  dur\n",
      "-------  ----------  ----------  ---------  -----------  ------\n",
      "      1     \u001b[36m2.20571\u001b[0m     \u001b[32m1.98018\u001b[0m    1.11389      0.30890  99.63s\n",
      "      2     \u001b[36m1.84449\u001b[0m     \u001b[32m1.69058\u001b[0m    1.09104      0.40880  99.41s\n",
      "      3     \u001b[36m1.67439\u001b[0m     \u001b[32m1.56577\u001b[0m    1.06937      0.45280  98.41s\n",
      "      4     \u001b[36m1.58314\u001b[0m     \u001b[32m1.48115\u001b[0m    1.06886      0.48240  97.75s\n",
      "      5     \u001b[36m1.50145\u001b[0m     \u001b[32m1.42872\u001b[0m    1.05091      0.49940  100.27s\n",
      "      6     \u001b[36m1.43279\u001b[0m     \u001b[32m1.34642\u001b[0m    1.06415      0.52900  99.20s\n",
      "      7     \u001b[36m1.36316\u001b[0m     \u001b[32m1.30511\u001b[0m    1.04449      0.54750  99.57s\n",
      "      8     \u001b[36m1.30864\u001b[0m     \u001b[32m1.26003\u001b[0m    1.03858      0.56580  96.16s\n",
      "      9     \u001b[36m1.25544\u001b[0m     \u001b[32m1.20570\u001b[0m    1.04126      0.58180  99.05s\n",
      "     10     \u001b[36m1.20589\u001b[0m     \u001b[32m1.15305\u001b[0m    1.04582      0.60250  101.93s\n",
      "     11     \u001b[36m1.16423\u001b[0m     \u001b[32m1.12472\u001b[0m    1.03512      0.61190  100.72s\n",
      "     12     \u001b[36m1.11984\u001b[0m     \u001b[32m1.10421\u001b[0m    1.01416      0.61550  100.78s\n",
      "     13     \u001b[36m1.08452\u001b[0m     \u001b[32m1.08615\u001b[0m    0.99851      0.62940  97.18s\n",
      "     14     \u001b[36m1.04770\u001b[0m     \u001b[32m1.04796\u001b[0m    0.99975      0.63840  99.14s\n",
      "     15     \u001b[36m1.02002\u001b[0m     1.06090    0.96147      0.63640  100.25s\n"
     ]
    }
   ],
   "source": [
    "# Train the network\n",
    "nn3 = net3.fit(X_zca, y_train)"
   ]
  },
  {
   "cell_type": "code",
   "execution_count": 17,
   "metadata": {
    "collapsed": false
   },
   "outputs": [
    {
     "name": "stderr",
     "output_type": "stream",
     "text": [
      "/Users/Shuxian/anaconda/envs/py27/lib/python2.7/site-packages/ipykernel/__main__.py:5: DeprecationWarning: Non-string object detected for the array ordering. Please pass in 'C', 'F', 'A', or 'K' instead\n"
     ]
    }
   ],
   "source": [
    "new_X_test=[]\n",
    "for img in X_test:\n",
    "    img=np.reshape(img, (32,32,3), order='F')\n",
    "    gray=flatten_matrix(rgb2gray(img)/255)\n",
    "    gray=np.asarray(gray)\n",
    "    x=zca_whitening(gray)\n",
    "    new_X_test.append(x)\n",
    "\n",
    "new_X_test=np.array(new_X_test)\n",
    "new_X_test=np.reshape(new_X_test,(-1,1,32,32))\n",
    "y_test=np.array(y_test)\n",
    "y_test= y_test.astype(np.int32)"
   ]
  },
  {
   "cell_type": "code",
   "execution_count": 18,
   "metadata": {
    "collapsed": false
   },
   "outputs": [],
   "source": [
    "preds = net3.predict(new_X_test)"
   ]
  },
  {
   "cell_type": "code",
   "execution_count": 40,
   "metadata": {
    "collapsed": false
   },
   "outputs": [
    {
     "data": {
      "text/plain": [
       "0.62780000000000002"
      ]
     },
     "execution_count": 40,
     "metadata": {},
     "output_type": "execute_result"
    }
   ],
   "source": [
    "from sklearn.metrics import accuracy_score\n",
    "accuracy_score(y_test, preds)"
   ]
  },
  {
   "cell_type": "code",
   "execution_count": 42,
   "metadata": {
    "collapsed": false
   },
   "outputs": [
    {
     "data": {
      "text/plain": [
       "1.2853000000000001"
      ]
     },
     "execution_count": 42,
     "metadata": {},
     "output_type": "execute_result"
    }
   ],
   "source": [
    "from sklearn.metrics import mean_absolute_error\n",
    "mean_absolute_error(y_test, preds)"
   ]
  },
  {
   "cell_type": "code",
   "execution_count": 19,
   "metadata": {
    "collapsed": false
   },
   "outputs": [
    {
     "name": "stderr",
     "output_type": "stream",
     "text": [
      "/Users/Shuxian/anaconda/envs/py27/lib/python2.7/site-packages/matplotlib/font_manager.py:273: UserWarning: Matplotlib is building the font cache using fc-list. This may take a moment.\n",
      "  warnings.warn('Matplotlib is building the font cache using fc-list. This may take a moment.')\n"
     ]
    }
   ],
   "source": [
    "cm = confusion_matrix(y_test, preds)\n",
    "plt.matshow(cm)\n",
    "plt.title('Confusion matrix')\n",
    "plt.colorbar()\n",
    "plt.ylabel('True label')\n",
    "plt.xlabel('Predicted label')\n",
    "plt.show()"
   ]
  },
  {
   "cell_type": "code",
   "execution_count": 22,
   "metadata": {
    "collapsed": false
   },
   "outputs": [
    {
     "name": "stderr",
     "output_type": "stream",
     "text": [
      "/Users/Shuxian/anaconda/envs/py27/lib/python2.7/site-packages/matplotlib/image.py:676: UserWarning: The backend (<class 'matplotlib.backends.backend_macosx.RendererMac'>) does not support interpolation='none'. The image will be interpolated with 'nearest` mode.\n",
      "  \"mode.\" % renderer.__class__)\n"
     ]
    }
   ],
   "source": [
    "visualize.plot_conv_weights(net3.layers_['conv2d1'])\n",
    "plt.show()"
   ]
  },
  {
   "cell_type": "code",
   "execution_count": 24,
   "metadata": {
    "collapsed": false
   },
   "outputs": [],
   "source": [
    "dense_layer = layers.get_output(net3.layers_['dense'], deterministic=True)\n",
    "output_layer = layers.get_output(net3.layers_['output'], deterministic=True)\n",
    "input_var = net3.layers_['input'].input_var\n",
    "f_output = theano.function([input_var], output_layer)\n",
    "f_dense = theano.function([input_var], dense_layer)"
   ]
  },
  {
   "cell_type": "code",
   "execution_count": 39,
   "metadata": {
    "collapsed": false
   },
   "outputs": [
    {
     "ename": "IndexError",
     "evalue": "too many indices for array",
     "output_type": "error",
     "traceback": [
      "\u001b[0;31m---------------------------------------------------------------------------\u001b[0m",
      "\u001b[0;31mIndexError\u001b[0m                                Traceback (most recent call last)",
      "\u001b[0;32m<ipython-input-39-5f2125d14680>\u001b[0m in \u001b[0;36m<module>\u001b[0;34m()\u001b[0m\n\u001b[0;32m----> 1\u001b[0;31m \u001b[0minstance\u001b[0m \u001b[0;34m=\u001b[0m \u001b[0mX_test\u001b[0m\u001b[0;34m[\u001b[0m\u001b[0;36m0\u001b[0m\u001b[0;34m]\u001b[0m\u001b[0;34m[\u001b[0m\u001b[0;36m3\u001b[0m\u001b[0;34m,\u001b[0m \u001b[0;36m32\u001b[0m\u001b[0;34m,\u001b[0m\u001b[0;36m32\u001b[0m\u001b[0;34m]\u001b[0m\u001b[0;34m\u001b[0m\u001b[0m\n\u001b[0m\u001b[1;32m      2\u001b[0m \u001b[0mget_ipython\u001b[0m\u001b[0;34m(\u001b[0m\u001b[0;34m)\u001b[0m\u001b[0;34m.\u001b[0m\u001b[0mmagic\u001b[0m\u001b[0;34m(\u001b[0m\u001b[0;34mu'timeit -n 500 f_output(instance)'\u001b[0m\u001b[0;34m)\u001b[0m\u001b[0;34m\u001b[0m\u001b[0m\n\u001b[1;32m      3\u001b[0m \u001b[0;34m\u001b[0m\u001b[0m\n\u001b[1;32m      4\u001b[0m \u001b[0;31m#500 loops, best of 3: 858 µs per loop\u001b[0m\u001b[0;34m\u001b[0m\u001b[0;34m\u001b[0m\u001b[0m\n",
      "\u001b[0;31mIndexError\u001b[0m: too many indices for array"
     ]
    }
   ],
   "source": [
    "instance = X_test[0][None, :,:]\n",
    "%timeit -n 500 f_output(instance)\n",
    "\n",
    "#500 loops, best of 3: 858 µs per loop"
   ]
  },
  {
   "cell_type": "code",
   "execution_count": null,
   "metadata": {
    "collapsed": false
   },
   "outputs": [],
   "source": [
    "pred = f_output(instance)\n",
    "N = pred.shape[1]\n",
    "plt.bar(range(N), pred.ravel())\n",
    "plt.show()"
   ]
  },
  {
   "cell_type": "code",
   "execution_count": null,
   "metadata": {
    "collapsed": false
   },
   "outputs": [],
   "source": [
    "pred = f_dense(instance)\n",
    "N = pred.shape[1]\n",
    "plt.bar(range(N), pred.ravel())\n",
    "plt.show()"
   ]
  },
  {
   "cell_type": "code",
   "execution_count": 35,
   "metadata": {
    "collapsed": false
   },
   "outputs": [
    {
     "data": {
      "text/plain": [
       "(3072,)"
      ]
     },
     "execution_count": 35,
     "metadata": {},
     "output_type": "execute_result"
    }
   ],
   "source": [
    "X_test[0].shape"
   ]
  },
  {
   "cell_type": "code",
   "execution_count": null,
   "metadata": {
    "collapsed": true
   },
   "outputs": [],
   "source": []
  }
 ],
 "metadata": {
  "anaconda-cloud": {},
  "kernelspec": {
   "display_name": "Python [conda env:py27]",
   "language": "python",
   "name": "conda-env-py27-py"
  },
  "language_info": {
   "codemirror_mode": {
    "name": "ipython",
    "version": 2
   },
   "file_extension": ".py",
   "mimetype": "text/x-python",
   "name": "python",
   "nbconvert_exporter": "python",
   "pygments_lexer": "ipython2",
   "version": "2.7.12"
  }
 },
 "nbformat": 4,
 "nbformat_minor": 0
}
