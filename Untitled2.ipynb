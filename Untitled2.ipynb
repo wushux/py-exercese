{
 "cells": [
  {
   "cell_type": "code",
   "execution_count": 15,
   "metadata": {
    "collapsed": false,
    "scrolled": true
   },
   "outputs": [],
   "source": [
    "from __future__ import print_function\n",
    "from keras.datasets import cifar10\n",
    "from keras.preprocessing.image import ImageDataGenerator\n",
    "from keras.models import Sequential\n",
    "from keras.layers import Dense, Dropout, Activation, Flatten\n",
    "from keras.layers import Convolution2D, MaxPooling2D\n",
    "from keras.optimizers import SGD\n",
    "from keras.utils import np_utils"
   ]
  },
  {
   "cell_type": "code",
   "execution_count": 16,
   "metadata": {
    "collapsed": false
   },
   "outputs": [
    {
     "name": "stdout",
     "output_type": "stream",
     "text": [
      "X_train shape: (50000, 3, 32, 32)\n",
      "50000 train samples\n",
      "10000 test samples\n"
     ]
    }
   ],
   "source": [
    "batch_size = 32\n",
    "nb_classes = 10\n",
    "nb_epoch = 200\n",
    "data_augmentation = True\n",
    "\n",
    "# input image dimensions\n",
    "img_rows, img_cols = 32, 32\n",
    "# the CIFAR10 images are RGB\n",
    "img_channels = 3\n",
    "\n",
    "# the data, shuffled and split between train and test sets\n",
    "(X_train, y_train), (X_test, y_test) = cifar10.load_data()\n",
    "print('X_train shape:', X_train.shape)\n",
    "print(X_train.shape[0], 'train samples')\n",
    "print(X_test.shape[0], 'test samples')"
   ]
  },
  {
   "cell_type": "code",
   "execution_count": 3,
   "metadata": {
    "collapsed": false
   },
   "outputs": [],
   "source": [
    "import numpy as np"
   ]
  },
  {
   "cell_type": "code",
   "execution_count": 71,
   "metadata": {
    "collapsed": false
   },
   "outputs": [],
   "source": [
    "np.place(y_train,y_train!=3, 0)\n",
    "np.place(y_train,y_train==3,1)"
   ]
  },
  {
   "cell_type": "code",
   "execution_count": 17,
   "metadata": {
    "collapsed": false
   },
   "outputs": [],
   "source": [
    "Y_train = np_utils.to_categorical(y_train, nb_classes)\n",
    "Y_test = np_utils.to_categorical(y_test, nb_classes)"
   ]
  },
  {
   "cell_type": "code",
   "execution_count": 26,
   "metadata": {
    "collapsed": true
   },
   "outputs": [],
   "source": [
    "from keras.models import load_model"
   ]
  },
  {
   "cell_type": "code",
   "execution_count": 27,
   "metadata": {
    "collapsed": false,
    "scrolled": true
   },
   "outputs": [
    {
     "name": "stderr",
     "output_type": "stream",
     "text": [
      "/Users/Shuxian/anaconda/envs/py27/lib/python2.7/site-packages/keras/backend/theano_backend.py:1203: UserWarning: DEPRECATION: the 'ds' parameter is not going to exist anymore as it is going to be replaced by the parameter 'ws'.\n",
      "  mode='max')\n",
      "/Users/Shuxian/anaconda/envs/py27/lib/python2.7/site-packages/keras/backend/theano_backend.py:1203: UserWarning: DEPRECATION: the 'st' parameter is not going to exist anymore as it is going to be replaced by the parameter 'stride'.\n",
      "  mode='max')\n",
      "/Users/Shuxian/anaconda/envs/py27/lib/python2.7/site-packages/keras/backend/theano_backend.py:1203: UserWarning: DEPRECATION: the 'padding' parameter is not going to exist anymore as it is going to be replaced by the parameter 'pad'.\n",
      "  mode='max')\n"
     ]
    }
   ],
   "source": [
    "model = load_model('/Users/Shuxian/Documents/INFO7250-Fall2016/model_1203.h5')"
   ]
  },
  {
   "cell_type": "code",
   "execution_count": 36,
   "metadata": {
    "collapsed": false
   },
   "outputs": [],
   "source": [
    "X_test = X_test.astype('float32')\n",
    "X_test /= 255"
   ]
  },
  {
   "cell_type": "code",
   "execution_count": 15,
   "metadata": {
    "collapsed": false
   },
   "outputs": [],
   "source": [
    "datagen = ImageDataGenerator(\n",
    "        featurewise_center=False,  # set input mean to 0 over the dataset\n",
    "        samplewise_center=False,  # set each sample mean to 0\n",
    "        featurewise_std_normalization=False,  # divide inputs by std of the dataset\n",
    "        samplewise_std_normalization=False,  # divide each input by its std\n",
    "        zca_whitening=False,  # apply ZCA whitening\n",
    "        rotation_range=0,  # randomly rotate images in the range (degrees, 0 to 180)\n",
    "        width_shift_range=0.1,  # randomly shift images horizontally (fraction of total width)\n",
    "        height_shift_range=0.1,  # randomly shift images vertically (fraction of total height)\n",
    "        horizontal_flip=True,  # randomly flip images\n",
    "        vertical_flip=False)  # randomly flip images\n",
    "\n",
    "    # compute quantities required for featurewise normalization\n",
    "    # (std, mean, and principal components if ZCA whitening is applied)\n",
    "datagen.fit(X_train)"
   ]
  },
  {
   "cell_type": "code",
   "execution_count": 23,
   "metadata": {
    "collapsed": false,
    "scrolled": true
   },
   "outputs": [
    {
     "data": {
      "text/plain": [
       "<keras.preprocessing.image.NumpyArrayIterator at 0x1079fa910>"
      ]
     },
     "execution_count": 23,
     "metadata": {},
     "output_type": "execute_result"
    }
   ],
   "source": [
    "datagen.flow(X_train,Y_train)"
   ]
  },
  {
   "cell_type": "code",
   "execution_count": 45,
   "metadata": {
    "collapsed": false
   },
   "outputs": [
    {
     "data": {
      "text/plain": [
       "convolution2d_input_1"
      ]
     },
     "execution_count": 45,
     "metadata": {},
     "output_type": "execute_result"
    }
   ],
   "source": [
    "model.inputs[0]"
   ]
  },
  {
   "cell_type": "code",
   "execution_count": 43,
   "metadata": {
    "collapsed": false
   },
   "outputs": [
    {
     "data": {
      "text/plain": [
       "array([[[158, 159, 165, ..., 137, 126, 116],\n",
       "        [152, 151, 159, ..., 136, 125, 119],\n",
       "        [151, 151, 158, ..., 139, 130, 120],\n",
       "        ..., \n",
       "        [ 68,  42,  31, ...,  38,  13,  40],\n",
       "        [ 61,  49,  35, ...,  26,  29,  20],\n",
       "        [ 54,  56,  45, ...,  24,  34,  21]],\n",
       "\n",
       "       [[112, 111, 116, ...,  95,  91,  85],\n",
       "        [112, 110, 114, ...,  95,  91,  88],\n",
       "        [110, 109, 111, ...,  98,  95,  89],\n",
       "        ..., \n",
       "        [124, 100,  88, ...,  97,  64,  85],\n",
       "        [116, 102,  85, ...,  82,  82,  64],\n",
       "        [107, 105,  89, ...,  77,  84,  67]],\n",
       "\n",
       "       [[ 49,  47,  51, ...,  36,  36,  33],\n",
       "        [ 51,  40,  45, ...,  31,  32,  34],\n",
       "        [ 47,  33,  36, ...,  34,  34,  33],\n",
       "        ..., \n",
       "        [177, 148, 137, ..., 146, 108, 127],\n",
       "        [168, 148, 132, ..., 130, 126, 107],\n",
       "        [160, 149, 132, ..., 124, 129, 110]]], dtype=uint8)"
      ]
     },
     "execution_count": 43,
     "metadata": {},
     "output_type": "execute_result"
    }
   ],
   "source": [
    "X_test[0]"
   ]
  },
  {
   "cell_type": "code",
   "execution_count": 44,
   "metadata": {
    "collapsed": false
   },
   "outputs": [],
   "source": [
    "tester = X_test[0].reshape( (-1,3,32,32) )"
   ]
  },
  {
   "cell_type": "code",
   "execution_count": 30,
   "metadata": {
    "collapsed": false
   },
   "outputs": [
    {
     "data": {
      "text/plain": [
       "array([[158, 159, 165, ..., 137, 126, 116],\n",
       "       [152, 151, 159, ..., 136, 125, 119],\n",
       "       [151, 151, 158, ..., 139, 130, 120],\n",
       "       ..., \n",
       "       [ 68,  42,  31, ...,  38,  13,  40],\n",
       "       [ 61,  49,  35, ...,  26,  29,  20],\n",
       "       [ 54,  56,  45, ...,  24,  34,  21]], dtype=uint8)"
      ]
     },
     "execution_count": 30,
     "metadata": {},
     "output_type": "execute_result"
    }
   ],
   "source": [
    "tester[0][0]"
   ]
  },
  {
   "cell_type": "code",
   "execution_count": 32,
   "metadata": {
    "collapsed": false
   },
   "outputs": [
    {
     "ename": "Exception",
     "evalue": "Error when checking : expected convolution2d_input_1 to have shape (None, 32, 32, 3) but got array with shape (1, 3, 32, 32)",
     "output_type": "error",
     "traceback": [
      "\u001b[0;31m---------------------------------------------------------------------------\u001b[0m",
      "\u001b[0;31mException\u001b[0m                                 Traceback (most recent call last)",
      "\u001b[0;32m<ipython-input-32-62cd036747aa>\u001b[0m in \u001b[0;36m<module>\u001b[0;34m()\u001b[0m\n\u001b[0;32m----> 1\u001b[0;31m \u001b[0mmodel\u001b[0m\u001b[0;34m.\u001b[0m\u001b[0mpredict\u001b[0m\u001b[0;34m(\u001b[0m\u001b[0mtester\u001b[0m\u001b[0;34m)\u001b[0m\u001b[0;34m\u001b[0m\u001b[0m\n\u001b[0m",
      "\u001b[0;32m/Users/Shuxian/anaconda/envs/py27/lib/python2.7/site-packages/keras/models.pyc\u001b[0m in \u001b[0;36mpredict\u001b[0;34m(self, x, batch_size, verbose)\u001b[0m\n\u001b[1;32m    646\u001b[0m         \u001b[0;32mif\u001b[0m \u001b[0mself\u001b[0m\u001b[0;34m.\u001b[0m\u001b[0mmodel\u001b[0m \u001b[0;32mis\u001b[0m \u001b[0mNone\u001b[0m\u001b[0;34m:\u001b[0m\u001b[0;34m\u001b[0m\u001b[0m\n\u001b[1;32m    647\u001b[0m             \u001b[0mself\u001b[0m\u001b[0;34m.\u001b[0m\u001b[0mbuild\u001b[0m\u001b[0;34m(\u001b[0m\u001b[0;34m)\u001b[0m\u001b[0;34m\u001b[0m\u001b[0m\n\u001b[0;32m--> 648\u001b[0;31m         \u001b[0;32mreturn\u001b[0m \u001b[0mself\u001b[0m\u001b[0;34m.\u001b[0m\u001b[0mmodel\u001b[0m\u001b[0;34m.\u001b[0m\u001b[0mpredict\u001b[0m\u001b[0;34m(\u001b[0m\u001b[0mx\u001b[0m\u001b[0;34m,\u001b[0m \u001b[0mbatch_size\u001b[0m\u001b[0;34m=\u001b[0m\u001b[0mbatch_size\u001b[0m\u001b[0;34m,\u001b[0m \u001b[0mverbose\u001b[0m\u001b[0;34m=\u001b[0m\u001b[0mverbose\u001b[0m\u001b[0;34m)\u001b[0m\u001b[0;34m\u001b[0m\u001b[0m\n\u001b[0m\u001b[1;32m    649\u001b[0m \u001b[0;34m\u001b[0m\u001b[0m\n\u001b[1;32m    650\u001b[0m     \u001b[0;32mdef\u001b[0m \u001b[0mpredict_on_batch\u001b[0m\u001b[0;34m(\u001b[0m\u001b[0mself\u001b[0m\u001b[0;34m,\u001b[0m \u001b[0mx\u001b[0m\u001b[0;34m)\u001b[0m\u001b[0;34m:\u001b[0m\u001b[0;34m\u001b[0m\u001b[0m\n",
      "\u001b[0;32m/Users/Shuxian/anaconda/envs/py27/lib/python2.7/site-packages/keras/engine/training.pyc\u001b[0m in \u001b[0;36mpredict\u001b[0;34m(self, x, batch_size, verbose)\u001b[0m\n\u001b[1;32m   1160\u001b[0m         x = standardize_input_data(x, self.input_names,\n\u001b[1;32m   1161\u001b[0m                                    \u001b[0mself\u001b[0m\u001b[0;34m.\u001b[0m\u001b[0minternal_input_shapes\u001b[0m\u001b[0;34m,\u001b[0m\u001b[0;34m\u001b[0m\u001b[0m\n\u001b[0;32m-> 1162\u001b[0;31m                                    check_batch_dim=False)\n\u001b[0m\u001b[1;32m   1163\u001b[0m         \u001b[0;32mif\u001b[0m \u001b[0mself\u001b[0m\u001b[0;34m.\u001b[0m\u001b[0mstateful\u001b[0m\u001b[0;34m:\u001b[0m\u001b[0;34m\u001b[0m\u001b[0m\n\u001b[1;32m   1164\u001b[0m             \u001b[0;32mif\u001b[0m \u001b[0mx\u001b[0m\u001b[0;34m[\u001b[0m\u001b[0;36m0\u001b[0m\u001b[0;34m]\u001b[0m\u001b[0;34m.\u001b[0m\u001b[0mshape\u001b[0m\u001b[0;34m[\u001b[0m\u001b[0;36m0\u001b[0m\u001b[0;34m]\u001b[0m \u001b[0;34m>\u001b[0m \u001b[0mbatch_size\u001b[0m \u001b[0;32mand\u001b[0m \u001b[0mx\u001b[0m\u001b[0;34m[\u001b[0m\u001b[0;36m0\u001b[0m\u001b[0;34m]\u001b[0m\u001b[0;34m.\u001b[0m\u001b[0mshape\u001b[0m\u001b[0;34m[\u001b[0m\u001b[0;36m0\u001b[0m\u001b[0;34m]\u001b[0m \u001b[0;34m%\u001b[0m \u001b[0mbatch_size\u001b[0m \u001b[0;34m!=\u001b[0m \u001b[0;36m0\u001b[0m\u001b[0;34m:\u001b[0m\u001b[0;34m\u001b[0m\u001b[0m\n",
      "\u001b[0;32m/Users/Shuxian/anaconda/envs/py27/lib/python2.7/site-packages/keras/engine/training.pyc\u001b[0m in \u001b[0;36mstandardize_input_data\u001b[0;34m(data, names, shapes, check_batch_dim, exception_prefix)\u001b[0m\n\u001b[1;32m    106\u001b[0m                                         \u001b[0;34m' to have shape '\u001b[0m \u001b[0;34m+\u001b[0m \u001b[0mstr\u001b[0m\u001b[0;34m(\u001b[0m\u001b[0mshapes\u001b[0m\u001b[0;34m[\u001b[0m\u001b[0mi\u001b[0m\u001b[0;34m]\u001b[0m\u001b[0;34m)\u001b[0m \u001b[0;34m+\u001b[0m\u001b[0;34m\u001b[0m\u001b[0m\n\u001b[1;32m    107\u001b[0m                                         \u001b[0;34m' but got array with shape '\u001b[0m \u001b[0;34m+\u001b[0m\u001b[0;34m\u001b[0m\u001b[0m\n\u001b[0;32m--> 108\u001b[0;31m                                         str(array.shape))\n\u001b[0m\u001b[1;32m    109\u001b[0m     \u001b[0;32mreturn\u001b[0m \u001b[0marrays\u001b[0m\u001b[0;34m\u001b[0m\u001b[0m\n\u001b[1;32m    110\u001b[0m \u001b[0;34m\u001b[0m\u001b[0m\n",
      "\u001b[0;31mException\u001b[0m: Error when checking : expected convolution2d_input_1 to have shape (None, 32, 32, 3) but got array with shape (1, 3, 32, 32)"
     ]
    }
   ],
   "source": [
    "model.predict(tester)"
   ]
  },
  {
   "cell_type": "code",
   "execution_count": 56,
   "metadata": {
    "collapsed": false
   },
   "outputs": [
    {
     "data": {
      "text/plain": [
       "(3, 32, 32)"
      ]
     },
     "execution_count": 56,
     "metadata": {},
     "output_type": "execute_result"
    }
   ],
   "source": [
    "X_train.shape[1:]"
   ]
  },
  {
   "cell_type": "code",
   "execution_count": 68,
   "metadata": {
    "collapsed": false
   },
   "outputs": [
    {
     "data": {
      "text/plain": [
       "array([ 1.,  0.])"
      ]
     },
     "execution_count": 68,
     "metadata": {},
     "output_type": "execute_result"
    }
   ],
   "source": [
    "Y_train[0]"
   ]
  },
  {
   "cell_type": "code",
   "execution_count": 74,
   "metadata": {
    "collapsed": false
   },
   "outputs": [
    {
     "data": {
      "text/plain": [
       "array([0, 1], dtype=uint8)"
      ]
     },
     "execution_count": 74,
     "metadata": {},
     "output_type": "execute_result"
    }
   ],
   "source": [
    "np.unique(y_train)"
   ]
  },
  {
   "cell_type": "code",
   "execution_count": 79,
   "metadata": {
    "collapsed": false
   },
   "outputs": [
    {
     "data": {
      "text/plain": [
       "array([ 0.,  0.,  0.,  0.,  0.,  0.,  1.,  0.,  0.,  0.])"
      ]
     },
     "execution_count": 79,
     "metadata": {},
     "output_type": "execute_result"
    }
   ],
   "source": [
    "Y_train[0]"
   ]
  },
  {
   "cell_type": "code",
   "execution_count": 104,
   "metadata": {
    "collapsed": false
   },
   "outputs": [
    {
     "data": {
      "text/plain": [
       "[[3],\n",
       " [8],\n",
       " [8],\n",
       " [0],\n",
       " [6],\n",
       " [6],\n",
       " [1],\n",
       " [6],\n",
       " [3],\n",
       " [1],\n",
       " [0],\n",
       " [9],\n",
       " [5],\n",
       " [7],\n",
       " [9],\n",
       " [8],\n",
       " [5],\n",
       " [7],\n",
       " [8],\n",
       " [6],\n",
       " [7],\n",
       " [0],\n",
       " [4],\n",
       " [9],\n",
       " [5],\n",
       " [2],\n",
       " [4],\n",
       " [0],\n",
       " [9],\n",
       " [6],\n",
       " [6],\n",
       " [5],\n",
       " [4],\n",
       " [5],\n",
       " [9],\n",
       " [2],\n",
       " [4],\n",
       " [1],\n",
       " [9],\n",
       " [5],\n",
       " [4],\n",
       " [6],\n",
       " [5],\n",
       " [6],\n",
       " [0],\n",
       " [9],\n",
       " [3],\n",
       " [9],\n",
       " [7],\n",
       " [6],\n",
       " [9],\n",
       " [8],\n",
       " [0],\n",
       " [3],\n",
       " [8],\n",
       " [8],\n",
       " [7],\n",
       " [7],\n",
       " [4],\n",
       " [6],\n",
       " [7],\n",
       " [3],\n",
       " [6],\n",
       " [3],\n",
       " [6],\n",
       " [2],\n",
       " [1],\n",
       " [2],\n",
       " [3],\n",
       " [7],\n",
       " [2],\n",
       " [6],\n",
       " [8],\n",
       " [8],\n",
       " [0],\n",
       " [2],\n",
       " [9],\n",
       " [3],\n",
       " [3],\n",
       " [8],\n",
       " [8],\n",
       " [1],\n",
       " [1],\n",
       " [7],\n",
       " [2],\n",
       " [5],\n",
       " [2],\n",
       " [7],\n",
       " [8],\n",
       " [9],\n",
       " [0],\n",
       " [3],\n",
       " [8],\n",
       " [6],\n",
       " [4],\n",
       " [6],\n",
       " [6],\n",
       " [0],\n",
       " [0],\n",
       " [7],\n",
       " [4],\n",
       " [5],\n",
       " [6],\n",
       " [3],\n",
       " [1],\n",
       " [1],\n",
       " [3],\n",
       " [6],\n",
       " [8],\n",
       " [7],\n",
       " [4],\n",
       " [0],\n",
       " [6],\n",
       " [2],\n",
       " [1],\n",
       " [3],\n",
       " [0],\n",
       " [4],\n",
       " [2],\n",
       " [7],\n",
       " [8],\n",
       " [3],\n",
       " [1],\n",
       " [2],\n",
       " [8],\n",
       " [0],\n",
       " [8],\n",
       " [3],\n",
       " [5],\n",
       " [2],\n",
       " [4],\n",
       " [1],\n",
       " [8],\n",
       " [9],\n",
       " [1],\n",
       " [2],\n",
       " [9],\n",
       " [7],\n",
       " [2],\n",
       " [9],\n",
       " [6],\n",
       " [5],\n",
       " [6],\n",
       " [3],\n",
       " [8],\n",
       " [7],\n",
       " [6],\n",
       " [2],\n",
       " [5],\n",
       " [2],\n",
       " [8],\n",
       " [9],\n",
       " [6],\n",
       " [0],\n",
       " [0],\n",
       " [5],\n",
       " [2],\n",
       " [9],\n",
       " [5],\n",
       " [4],\n",
       " [2],\n",
       " [1],\n",
       " [6],\n",
       " [6],\n",
       " [8],\n",
       " [4],\n",
       " [8],\n",
       " [4],\n",
       " [5],\n",
       " [0],\n",
       " [9],\n",
       " [9],\n",
       " [9],\n",
       " [8],\n",
       " [9],\n",
       " [9],\n",
       " [3],\n",
       " [7],\n",
       " [5],\n",
       " [0],\n",
       " [0],\n",
       " [5],\n",
       " [2],\n",
       " [2],\n",
       " [3],\n",
       " [8],\n",
       " [6],\n",
       " [3],\n",
       " [4],\n",
       " [0],\n",
       " [5],\n",
       " [8],\n",
       " [0],\n",
       " [1],\n",
       " [7],\n",
       " [2],\n",
       " [8],\n",
       " [8],\n",
       " [7],\n",
       " [8],\n",
       " [5],\n",
       " [1],\n",
       " [8],\n",
       " [7],\n",
       " [1],\n",
       " [3],\n",
       " [0],\n",
       " [5],\n",
       " [7],\n",
       " [9],\n",
       " [7],\n",
       " [4],\n",
       " [5],\n",
       " [9],\n",
       " [8],\n",
       " [0],\n",
       " [7],\n",
       " [9],\n",
       " [8],\n",
       " [2],\n",
       " [7],\n",
       " [6],\n",
       " [9],\n",
       " [4],\n",
       " [3],\n",
       " [9],\n",
       " [6],\n",
       " [4],\n",
       " [7],\n",
       " [6],\n",
       " [5],\n",
       " [1],\n",
       " [5],\n",
       " [8],\n",
       " [8],\n",
       " [0],\n",
       " [4],\n",
       " [0],\n",
       " [5],\n",
       " [5],\n",
       " [1],\n",
       " [1],\n",
       " [8],\n",
       " [9],\n",
       " [0],\n",
       " [3],\n",
       " [1],\n",
       " [9],\n",
       " [2],\n",
       " [2],\n",
       " [5],\n",
       " [3],\n",
       " [9],\n",
       " [9],\n",
       " [4],\n",
       " [0],\n",
       " [3],\n",
       " [0],\n",
       " [0],\n",
       " [9],\n",
       " [8],\n",
       " [1],\n",
       " [5],\n",
       " [7],\n",
       " [0],\n",
       " [8],\n",
       " [2],\n",
       " [4],\n",
       " [7],\n",
       " [0],\n",
       " [2],\n",
       " [3],\n",
       " [6],\n",
       " [3],\n",
       " [8],\n",
       " [5],\n",
       " [0],\n",
       " [3],\n",
       " [4],\n",
       " [3],\n",
       " [9],\n",
       " [0],\n",
       " [6],\n",
       " [1],\n",
       " [0],\n",
       " [9],\n",
       " [1],\n",
       " [0],\n",
       " [7],\n",
       " [9],\n",
       " [1],\n",
       " [2],\n",
       " [6],\n",
       " [9],\n",
       " [3],\n",
       " [4],\n",
       " [6],\n",
       " [0],\n",
       " [0],\n",
       " [6],\n",
       " [6],\n",
       " [6],\n",
       " [3],\n",
       " [2],\n",
       " [6],\n",
       " [1],\n",
       " [8],\n",
       " [2],\n",
       " [1],\n",
       " [6],\n",
       " [8],\n",
       " [6],\n",
       " [8],\n",
       " [0],\n",
       " [4],\n",
       " [0],\n",
       " [7],\n",
       " [7],\n",
       " [5],\n",
       " [5],\n",
       " [3],\n",
       " [5],\n",
       " [2],\n",
       " [3],\n",
       " [4],\n",
       " [1],\n",
       " [7],\n",
       " [5],\n",
       " [4],\n",
       " [6],\n",
       " [1],\n",
       " [9],\n",
       " [3],\n",
       " [6],\n",
       " [6],\n",
       " [9],\n",
       " [3],\n",
       " [8],\n",
       " [0],\n",
       " [7],\n",
       " [2],\n",
       " [6],\n",
       " [2],\n",
       " [5],\n",
       " [8],\n",
       " [5],\n",
       " [4],\n",
       " [6],\n",
       " [8],\n",
       " [9],\n",
       " [9],\n",
       " [1],\n",
       " [0],\n",
       " [2],\n",
       " [2],\n",
       " [7],\n",
       " [3],\n",
       " [2],\n",
       " [8],\n",
       " [0],\n",
       " [9],\n",
       " [5],\n",
       " [8],\n",
       " [1],\n",
       " [9],\n",
       " [4],\n",
       " [1],\n",
       " [3],\n",
       " [8],\n",
       " [1],\n",
       " [4],\n",
       " [7],\n",
       " [9],\n",
       " [4],\n",
       " [2],\n",
       " [7],\n",
       " [0],\n",
       " [7],\n",
       " [0],\n",
       " [6],\n",
       " [6],\n",
       " [9],\n",
       " [0],\n",
       " [9],\n",
       " [2],\n",
       " [8],\n",
       " [7],\n",
       " [2],\n",
       " [2],\n",
       " [5],\n",
       " [1],\n",
       " [2],\n",
       " [6],\n",
       " [2],\n",
       " [9],\n",
       " [6],\n",
       " [2],\n",
       " [3],\n",
       " [0],\n",
       " [3],\n",
       " [9],\n",
       " [8],\n",
       " [7],\n",
       " [8],\n",
       " [8],\n",
       " [4],\n",
       " [0],\n",
       " [1],\n",
       " [8],\n",
       " [2],\n",
       " [7],\n",
       " [9],\n",
       " [3],\n",
       " [6],\n",
       " [1],\n",
       " [9],\n",
       " [0],\n",
       " [7],\n",
       " [3],\n",
       " [7],\n",
       " [4],\n",
       " [5],\n",
       " [0],\n",
       " [0],\n",
       " [2],\n",
       " [9],\n",
       " [3],\n",
       " [4],\n",
       " [0],\n",
       " [6],\n",
       " [2],\n",
       " [5],\n",
       " [3],\n",
       " [7],\n",
       " [3],\n",
       " [7],\n",
       " [2],\n",
       " [5],\n",
       " [3],\n",
       " [1],\n",
       " [1],\n",
       " [4],\n",
       " [9],\n",
       " [9],\n",
       " [5],\n",
       " [7],\n",
       " [5],\n",
       " [0],\n",
       " [2],\n",
       " [2],\n",
       " [2],\n",
       " [9],\n",
       " [7],\n",
       " [3],\n",
       " [9],\n",
       " [4],\n",
       " [3],\n",
       " [5],\n",
       " [4],\n",
       " [6],\n",
       " [5],\n",
       " [6],\n",
       " [1],\n",
       " [4],\n",
       " [3],\n",
       " [4],\n",
       " [4],\n",
       " [3],\n",
       " [7],\n",
       " [8],\n",
       " [3],\n",
       " [7],\n",
       " [8],\n",
       " [0],\n",
       " [5],\n",
       " [7],\n",
       " [6],\n",
       " [0],\n",
       " [5],\n",
       " [4],\n",
       " [8],\n",
       " [6],\n",
       " [8],\n",
       " [5],\n",
       " [5],\n",
       " [9],\n",
       " [9],\n",
       " [9],\n",
       " [5],\n",
       " [0],\n",
       " [1],\n",
       " [0],\n",
       " [8],\n",
       " [1],\n",
       " [1],\n",
       " [8],\n",
       " [0],\n",
       " [2],\n",
       " [2],\n",
       " [0],\n",
       " [4],\n",
       " [6],\n",
       " [5],\n",
       " [4],\n",
       " [9],\n",
       " [4],\n",
       " [7],\n",
       " [9],\n",
       " [9],\n",
       " [4],\n",
       " [5],\n",
       " [6],\n",
       " [6],\n",
       " [1],\n",
       " [5],\n",
       " [3],\n",
       " [8],\n",
       " [9],\n",
       " [5],\n",
       " [8],\n",
       " [5],\n",
       " [7],\n",
       " [0],\n",
       " [7],\n",
       " [0],\n",
       " [5],\n",
       " [0],\n",
       " [0],\n",
       " [4],\n",
       " [6],\n",
       " [9],\n",
       " [0],\n",
       " [9],\n",
       " [5],\n",
       " [6],\n",
       " [6],\n",
       " [6],\n",
       " [2],\n",
       " [9],\n",
       " [0],\n",
       " [1],\n",
       " [7],\n",
       " [6],\n",
       " [7],\n",
       " [5],\n",
       " [9],\n",
       " [1],\n",
       " [6],\n",
       " [2],\n",
       " [5],\n",
       " [5],\n",
       " [5],\n",
       " [8],\n",
       " [5],\n",
       " [9],\n",
       " [4],\n",
       " [6],\n",
       " [4],\n",
       " [3],\n",
       " [2],\n",
       " [0],\n",
       " [7],\n",
       " [6],\n",
       " [2],\n",
       " [2],\n",
       " [3],\n",
       " [9],\n",
       " [7],\n",
       " [9],\n",
       " [2],\n",
       " [6],\n",
       " [7],\n",
       " [1],\n",
       " [3],\n",
       " [6],\n",
       " [6],\n",
       " [8],\n",
       " [9],\n",
       " [7],\n",
       " [5],\n",
       " [4],\n",
       " [0],\n",
       " [8],\n",
       " [4],\n",
       " [0],\n",
       " [9],\n",
       " [3],\n",
       " [4],\n",
       " [8],\n",
       " [9],\n",
       " [6],\n",
       " [9],\n",
       " [2],\n",
       " [6],\n",
       " [1],\n",
       " [4],\n",
       " [7],\n",
       " [3],\n",
       " [5],\n",
       " [3],\n",
       " [8],\n",
       " [5],\n",
       " [0],\n",
       " [2],\n",
       " [1],\n",
       " [6],\n",
       " [4],\n",
       " [3],\n",
       " [3],\n",
       " [9],\n",
       " [6],\n",
       " [9],\n",
       " [8],\n",
       " [8],\n",
       " [5],\n",
       " [8],\n",
       " [6],\n",
       " [6],\n",
       " [2],\n",
       " [1],\n",
       " [7],\n",
       " [7],\n",
       " [1],\n",
       " [2],\n",
       " [7],\n",
       " [9],\n",
       " [9],\n",
       " [4],\n",
       " [4],\n",
       " [1],\n",
       " [2],\n",
       " [5],\n",
       " [6],\n",
       " [8],\n",
       " [7],\n",
       " [6],\n",
       " [8],\n",
       " [3],\n",
       " [0],\n",
       " [5],\n",
       " [5],\n",
       " [3],\n",
       " [0],\n",
       " [7],\n",
       " [9],\n",
       " [1],\n",
       " [3],\n",
       " [4],\n",
       " [4],\n",
       " [5],\n",
       " [3],\n",
       " [9],\n",
       " [5],\n",
       " [6],\n",
       " [9],\n",
       " [2],\n",
       " [1],\n",
       " [1],\n",
       " [4],\n",
       " [1],\n",
       " [9],\n",
       " [4],\n",
       " [7],\n",
       " [6],\n",
       " [3],\n",
       " [8],\n",
       " [9],\n",
       " [0],\n",
       " [1],\n",
       " [3],\n",
       " [6],\n",
       " [3],\n",
       " [6],\n",
       " [3],\n",
       " [2],\n",
       " [0],\n",
       " [3],\n",
       " [1],\n",
       " [0],\n",
       " [5],\n",
       " [9],\n",
       " [6],\n",
       " [4],\n",
       " [8],\n",
       " [9],\n",
       " [6],\n",
       " [9],\n",
       " [6],\n",
       " [3],\n",
       " [0],\n",
       " [3],\n",
       " [2],\n",
       " [2],\n",
       " [7],\n",
       " [8],\n",
       " [3],\n",
       " [8],\n",
       " [2],\n",
       " [7],\n",
       " [5],\n",
       " [7],\n",
       " [2],\n",
       " [4],\n",
       " [8],\n",
       " [7],\n",
       " [4],\n",
       " [2],\n",
       " [9],\n",
       " [8],\n",
       " [8],\n",
       " [6],\n",
       " [8],\n",
       " [8],\n",
       " [7],\n",
       " [4],\n",
       " [3],\n",
       " [3],\n",
       " [8],\n",
       " [4],\n",
       " [9],\n",
       " [4],\n",
       " [8],\n",
       " [8],\n",
       " [1],\n",
       " [8],\n",
       " [2],\n",
       " [1],\n",
       " [3],\n",
       " [6],\n",
       " [5],\n",
       " [4],\n",
       " [2],\n",
       " [7],\n",
       " [9],\n",
       " [9],\n",
       " [4],\n",
       " [1],\n",
       " [4],\n",
       " [1],\n",
       " [3],\n",
       " [2],\n",
       " [7],\n",
       " [0],\n",
       " [7],\n",
       " [9],\n",
       " [7],\n",
       " [6],\n",
       " [6],\n",
       " [2],\n",
       " [5],\n",
       " [9],\n",
       " [2],\n",
       " [9],\n",
       " [1],\n",
       " [2],\n",
       " [2],\n",
       " [6],\n",
       " [8],\n",
       " [2],\n",
       " [1],\n",
       " [3],\n",
       " [6],\n",
       " [6],\n",
       " [0],\n",
       " [1],\n",
       " [2],\n",
       " [7],\n",
       " [0],\n",
       " [5],\n",
       " [4],\n",
       " [6],\n",
       " [1],\n",
       " [6],\n",
       " [4],\n",
       " [0],\n",
       " [2],\n",
       " [2],\n",
       " [6],\n",
       " [0],\n",
       " [5],\n",
       " [9],\n",
       " [1],\n",
       " [7],\n",
       " [6],\n",
       " [7],\n",
       " [0],\n",
       " [3],\n",
       " [9],\n",
       " [6],\n",
       " [8],\n",
       " [3],\n",
       " [0],\n",
       " [3],\n",
       " [4],\n",
       " [7],\n",
       " [7],\n",
       " [1],\n",
       " [4],\n",
       " [7],\n",
       " [2],\n",
       " [7],\n",
       " [1],\n",
       " [4],\n",
       " [7],\n",
       " [4],\n",
       " [4],\n",
       " [8],\n",
       " [4],\n",
       " [7],\n",
       " [7],\n",
       " [5],\n",
       " [3],\n",
       " [7],\n",
       " [2],\n",
       " [0],\n",
       " [8],\n",
       " [9],\n",
       " [5],\n",
       " [8],\n",
       " [3],\n",
       " [6],\n",
       " [2],\n",
       " [0],\n",
       " [8],\n",
       " [7],\n",
       " [3],\n",
       " [7],\n",
       " [6],\n",
       " [5],\n",
       " [3],\n",
       " [1],\n",
       " [3],\n",
       " [2],\n",
       " [2],\n",
       " [5],\n",
       " [4],\n",
       " [1],\n",
       " [2],\n",
       " [9],\n",
       " [2],\n",
       " [7],\n",
       " [0],\n",
       " [7],\n",
       " [2],\n",
       " [1],\n",
       " [3],\n",
       " [2],\n",
       " [0],\n",
       " [2],\n",
       " [4],\n",
       " [7],\n",
       " [9],\n",
       " [8],\n",
       " [9],\n",
       " [0],\n",
       " [7],\n",
       " [7],\n",
       " [0],\n",
       " [7],\n",
       " [8],\n",
       " [4],\n",
       " [6],\n",
       " [3],\n",
       " [3],\n",
       " [0],\n",
       " [1],\n",
       " [3],\n",
       " [7],\n",
       " [0],\n",
       " [1],\n",
       " [3],\n",
       " [1],\n",
       " [4],\n",
       " [2],\n",
       " [3],\n",
       " [8],\n",
       " [4],\n",
       " [2],\n",
       " [3],\n",
       " [7],\n",
       " [8],\n",
       " [4],\n",
       " [3],\n",
       " [0],\n",
       " [9],\n",
       " [0],\n",
       " [0],\n",
       " [1],\n",
       " [0],\n",
       " [4],\n",
       " [4],\n",
       " [6],\n",
       " [7],\n",
       " [6],\n",
       " [1],\n",
       " [1],\n",
       " [3],\n",
       " [7],\n",
       " [3],\n",
       " [5],\n",
       " [2],\n",
       " [6],\n",
       " [6],\n",
       " [5],\n",
       " [8],\n",
       " [7],\n",
       " [1],\n",
       " [6],\n",
       " [8],\n",
       " [8],\n",
       " [5],\n",
       " [3],\n",
       " [0],\n",
       " [4],\n",
       " [0],\n",
       " [1],\n",
       " [3],\n",
       " [8],\n",
       " [8],\n",
       " [0],\n",
       " [6],\n",
       " [9],\n",
       " [9],\n",
       " [9],\n",
       " [5],\n",
       " [5],\n",
       " [8],\n",
       " [6],\n",
       " [0],\n",
       " [0],\n",
       " [4],\n",
       " [2],\n",
       " [3],\n",
       " [2],\n",
       " [7],\n",
       " [2],\n",
       " [2],\n",
       " [5],\n",
       " [9],\n",
       " [8],\n",
       " [9],\n",
       " [1],\n",
       " [7],\n",
       " [4],\n",
       " [0],\n",
       " [3],\n",
       " [0],\n",
       " [1],\n",
       " [3],\n",
       " [8],\n",
       " [3],\n",
       " [9],\n",
       " [6],\n",
       " [1],\n",
       " [4],\n",
       " [7],\n",
       " [0],\n",
       " [3],\n",
       " [7],\n",
       " [8],\n",
       " [9],\n",
       " [1],\n",
       " [1],\n",
       " [6],\n",
       " [6],\n",
       " [6],\n",
       " [6],\n",
       " [9],\n",
       " [1],\n",
       " [9],\n",
       " [9],\n",
       " [4],\n",
       " [2],\n",
       " [1],\n",
       " [7],\n",
       " [0],\n",
       " [6],\n",
       " [8],\n",
       " [1],\n",
       " [9],\n",
       " [2],\n",
       " [9],\n",
       " [0],\n",
       " [4],\n",
       " [7],\n",
       " [8],\n",
       " [3],\n",
       " [1],\n",
       " [2],\n",
       " [0],\n",
       " [1],\n",
       " [5],\n",
       " [8],\n",
       " [4],\n",
       " [6],\n",
       " [3],\n",
       " [8],\n",
       " [1],\n",
       " [3],\n",
       " [8],\n",
       " ...]"
      ]
     },
     "execution_count": 104,
     "metadata": {},
     "output_type": "execute_result"
    }
   ],
   "source": [
    "y_test.tolist()"
   ]
  },
  {
   "cell_type": "code",
   "execution_count": 46,
   "metadata": {
    "collapsed": true
   },
   "outputs": [],
   "source": [
    "import numpy as np\n",
    "import scipy.misc\n",
    " \n",
    "def load_and_scale_imgs():\n",
    "   img_names = ['mao1.jpg']\n",
    " \n",
    "   imgs = [np.transpose(scipy.misc.imresize(scipy.misc.imread(img_name), (32, 32)),\n",
    "                        (2, 0, 1)).astype('float32')\n",
    "           for img_name in img_names]\n",
    "   return np.array(imgs) / 255"
   ]
  },
  {
   "cell_type": "code",
   "execution_count": 47,
   "metadata": {
    "collapsed": true
   },
   "outputs": [],
   "source": [
    "imgs = load_and_scale_imgs()\n"
   ]
  },
  {
   "cell_type": "code",
   "execution_count": 59,
   "metadata": {
    "collapsed": false
   },
   "outputs": [],
   "source": [
    "tester = np.array(X_test[0])\n",
    "# tester = tester.reshape((1, 32, 32, 3))\n",
    "tester=np.expand_dims(tester, axis=0)"
   ]
  },
  {
   "cell_type": "code",
   "execution_count": 67,
   "metadata": {
    "collapsed": true
   },
   "outputs": [],
   "source": [
    "arrs = [imgs]"
   ]
  },
  {
   "cell_type": "code",
   "execution_count": 68,
   "metadata": {
    "collapsed": true
   },
   "outputs": [],
   "source": [
    "res = np.concatenate([arr[np.newaxis] for arr in arrs])"
   ]
  },
  {
   "cell_type": "code",
   "execution_count": 90,
   "metadata": {
    "collapsed": false
   },
   "outputs": [
    {
     "data": {
      "text/plain": [
       "(3, 32, 32)"
      ]
     },
     "execution_count": 90,
     "metadata": {},
     "output_type": "execute_result"
    }
   ],
   "source": [
    "res[0].shape\n"
   ]
  },
  {
   "cell_type": "code",
   "execution_count": 70,
   "metadata": {
    "collapsed": false
   },
   "outputs": [
    {
     "data": {
      "text/plain": [
       "(3, 32, 32)"
      ]
     },
     "execution_count": 70,
     "metadata": {},
     "output_type": "execute_result"
    }
   ],
   "source": [
    "imgs.shape"
   ]
  },
  {
   "cell_type": "code",
   "execution_count": 71,
   "metadata": {
    "collapsed": true
   },
   "outputs": [],
   "source": [
    "imgs = X_test[0]"
   ]
  },
  {
   "cell_type": "code",
   "execution_count": 73,
   "metadata": {
    "collapsed": false
   },
   "outputs": [
    {
     "data": {
      "text/plain": [
       "(3, 32, 32)"
      ]
     },
     "execution_count": 73,
     "metadata": {},
     "output_type": "execute_result"
    }
   ],
   "source": [
    "imgs.shape"
   ]
  },
  {
   "cell_type": "code",
   "execution_count": 93,
   "metadata": {
    "collapsed": false
   },
   "outputs": [
    {
     "data": {
      "text/plain": [
       "array([1])"
      ]
     },
     "execution_count": 93,
     "metadata": {},
     "output_type": "execute_result"
    }
   ],
   "source": [
    "y_test[9]"
   ]
  },
  {
   "cell_type": "code",
   "execution_count": 2,
   "metadata": {
    "collapsed": true
   },
   "outputs": [],
   "source": [
    "from scipy import misc"
   ]
  },
  {
   "cell_type": "code",
   "execution_count": 11,
   "metadata": {
    "collapsed": true
   },
   "outputs": [],
   "source": [
    "face = misc.imread('/Users/Shuxian/Documents/Python/mao1.jpg')"
   ]
  },
  {
   "cell_type": "code",
   "execution_count": 12,
   "metadata": {
    "collapsed": false
   },
   "outputs": [
    {
     "data": {
      "text/plain": [
       "numpy.ndarray"
      ]
     },
     "execution_count": 12,
     "metadata": {},
     "output_type": "execute_result"
    }
   ],
   "source": [
    "type(face)"
   ]
  },
  {
   "cell_type": "code",
   "execution_count": 13,
   "metadata": {
    "collapsed": false
   },
   "outputs": [
    {
     "data": {
      "text/plain": [
       "(32, 32, 3)"
      ]
     },
     "execution_count": 13,
     "metadata": {},
     "output_type": "execute_result"
    }
   ],
   "source": [
    "face.shape"
   ]
  },
  {
   "cell_type": "code",
   "execution_count": 64,
   "metadata": {
    "collapsed": false
   },
   "outputs": [],
   "source": [
    "from matplotlib import pyplot\n",
    "from scipy.misc import toimage\n",
    "pyplot.imshow(toimage(X_train[newidx][0]))\n",
    "pyplot.show()"
   ]
  },
  {
   "cell_type": "code",
   "execution_count": 19,
   "metadata": {
    "collapsed": false
   },
   "outputs": [
    {
     "data": {
      "text/plain": [
       "(10, 3, 32, 32)"
      ]
     },
     "execution_count": 19,
     "metadata": {},
     "output_type": "execute_result"
    }
   ],
   "source": [
    "X_test[0:10].shape"
   ]
  },
  {
   "cell_type": "code",
   "execution_count": 21,
   "metadata": {
    "collapsed": false
   },
   "outputs": [],
   "source": [
    "imgs=[]\n",
    "for img in X_test[0:10]:\n",
    "    imgs.append(img)"
   ]
  },
  {
   "cell_type": "code",
   "execution_count": 23,
   "metadata": {
    "collapsed": true
   },
   "outputs": [],
   "source": [
    "import numpy as np"
   ]
  },
  {
   "cell_type": "code",
   "execution_count": 33,
   "metadata": {
    "collapsed": false
   },
   "outputs": [],
   "source": [
    "imgs=np.append(X_test[0:10],[X_train[0]],axis=0)"
   ]
  },
  {
   "cell_type": "code",
   "execution_count": 25,
   "metadata": {
    "collapsed": false
   },
   "outputs": [
    {
     "data": {
      "text/plain": [
       "array([[3],\n",
       "       [8],\n",
       "       [8],\n",
       "       [0],\n",
       "       [6],\n",
       "       [6],\n",
       "       [1],\n",
       "       [6],\n",
       "       [3],\n",
       "       [1]])"
      ]
     },
     "execution_count": 25,
     "metadata": {},
     "output_type": "execute_result"
    }
   ],
   "source": [
    "y_test[0:10]"
   ]
  },
  {
   "cell_type": "code",
   "execution_count": 34,
   "metadata": {
    "collapsed": false,
    "scrolled": true
   },
   "outputs": [
    {
     "data": {
      "text/plain": [
       "11"
      ]
     },
     "execution_count": 34,
     "metadata": {},
     "output_type": "execute_result"
    }
   ],
   "source": [
    "len(imgs)"
   ]
  },
  {
   "cell_type": "code",
   "execution_count": 57,
   "metadata": {
    "collapsed": false
   },
   "outputs": [],
   "source": [
    "dogidx=np.where(y_train == 5)[0]"
   ]
  },
  {
   "cell_type": "code",
   "execution_count": 56,
   "metadata": {
    "collapsed": false
   },
   "outputs": [],
   "source": [
    "catidx=np.where(y_train == 3)[0]"
   ]
  },
  {
   "cell_type": "code",
   "execution_count": 65,
   "metadata": {
    "collapsed": true
   },
   "outputs": [],
   "source": [
    "newidx=sorted(np.concatenate((dogidx,catidx),axis=0))"
   ]
  },
  {
   "cell_type": "code",
   "execution_count": 67,
   "metadata": {
    "collapsed": false
   },
   "outputs": [
    {
     "data": {
      "text/plain": [
       "array([[[[125, 110, 102, ..., 202, 200, 202],\n",
       "         [142, 146, 176, ..., 195, 198, 204],\n",
       "         [180, 143, 156, ..., 122, 139, 158],\n",
       "         ..., \n",
       "         [104, 101, 101, ..., 126, 126, 125],\n",
       "         [104, 105, 109, ..., 138, 137, 137],\n",
       "         [105, 108, 115, ..., 143, 143, 144]],\n",
       "\n",
       "        [[125, 101,  90, ..., 207, 205, 208],\n",
       "         [146, 144, 172, ..., 201, 205, 211],\n",
       "         [185, 146, 157, ..., 111, 128, 147],\n",
       "         ..., \n",
       "         [ 82,  80,  81, ..., 103, 103, 101],\n",
       "         [ 81,  84,  88, ..., 113, 113, 112],\n",
       "         [ 83,  87,  94, ..., 117, 116, 116]],\n",
       "\n",
       "        [[116,  91,  83, ..., 214, 212, 214],\n",
       "         [142, 139, 170, ..., 205, 209, 215],\n",
       "         [183, 146, 157, ..., 113, 131, 150],\n",
       "         ..., \n",
       "         [ 41,  39,  38, ...,  67,  69,  68],\n",
       "         [ 40,  41,  43, ...,  78,  80,  81],\n",
       "         [ 42,  45,  50, ...,  82,  84,  86]]],\n",
       "\n",
       "\n",
       "       [[[110, 142, 151, ...,  39,  40,  38],\n",
       "         [109, 141, 152, ...,  36,  40,  36],\n",
       "         [105, 142, 151, ...,  39,  44,  39],\n",
       "         ..., \n",
       "         [ 62,  39,  60, ...,  42,  46,  47],\n",
       "         [ 62,  52,  58, ...,  43,  47,  49],\n",
       "         [ 55,  60,  56, ...,  45,  47,  51]],\n",
       "\n",
       "        [[104, 135, 146, ...,  39,  40,  38],\n",
       "         [103, 133, 147, ...,  36,  40,  36],\n",
       "         [ 98, 133, 145, ...,  39,  44,  39],\n",
       "         ..., \n",
       "         [ 59,  38,  64, ...,  44,  44,  44],\n",
       "         [ 57,  51,  61, ...,  46,  45,  46],\n",
       "         [ 51,  60,  60, ...,  48,  46,  48]],\n",
       "\n",
       "        [[ 97, 118, 120, ...,  39,  40,  38],\n",
       "         [ 95, 115, 119, ...,  37,  40,  36],\n",
       "         [ 90, 114, 117, ...,  41,  45,  40],\n",
       "         ..., \n",
       "         [ 60,  49,  81, ...,  56,  55,  55],\n",
       "         [ 56,  61,  78, ...,  58,  58,  60],\n",
       "         [ 50,  71,  78, ...,  60,  60,  62]]],\n",
       "\n",
       "\n",
       "       [[[252, 249, 250, ..., 251, 251, 251],\n",
       "         [255, 252, 253, ..., 255, 255, 254],\n",
       "         [253, 250, 250, ..., 254, 254, 252],\n",
       "         ..., \n",
       "         [254, 252, 253, ..., 252, 253, 252],\n",
       "         [250, 252, 255, ..., 254, 255, 254],\n",
       "         [236, 249, 250, ..., 250, 250, 251]],\n",
       "\n",
       "        [[  8,  15,   8, ...,   1,   0,   1],\n",
       "         [  7,  15,  13, ...,   1,   0,   4],\n",
       "         [  6,  16,  24, ...,   1,   0,   9],\n",
       "         ..., \n",
       "         [ 66,  62,  64, ...,  70,  69,  70],\n",
       "         [ 49,  53,  59, ...,  70,  68,  59],\n",
       "         [ 37,  48,  42, ...,  78,  74,  58]],\n",
       "\n",
       "        [[ 42,  42,  39, ...,  11,  15,  30],\n",
       "         [ 43,  44,  42, ...,  11,  18,  33],\n",
       "         [ 42,  42,  43, ...,  10,  20,  37],\n",
       "         ..., \n",
       "         [ 94,  92,  93, ..., 101, 103, 104],\n",
       "         [ 81,  82,  86, ..., 103, 100,  89],\n",
       "         [ 68,  76,  73, ..., 113, 109,  88]]],\n",
       "\n",
       "\n",
       "       ..., \n",
       "       [[[ 41,  39,  39, ..., 100,  85, 103],\n",
       "         [ 41,  40,  41, ..., 101,  86, 104],\n",
       "         [ 41,  40,  40, ..., 102,  85,  94],\n",
       "         ..., \n",
       "         [ 56,  56,  55, ...,  85,  86,  86],\n",
       "         [ 58,  57,  57, ...,  84,  84,  87],\n",
       "         [ 60,  60,  59, ...,  80,  82,  85]],\n",
       "\n",
       "        [[ 41,  39,  39, ...,  83,  70,  85],\n",
       "         [ 41,  40,  41, ...,  83,  69,  85],\n",
       "         [ 41,  40,  40, ...,  83,  67,  74],\n",
       "         ..., \n",
       "         [ 44,  43,  43, ...,  57,  58,  58],\n",
       "         [ 44,  43,  43, ...,  57,  57,  60],\n",
       "         [ 45,  45,  44, ...,  56,  56,  59]],\n",
       "\n",
       "        [[ 41,  37,  36, ...,  57,  49,  58],\n",
       "         [ 41,  38,  39, ...,  57,  50,  59],\n",
       "         [ 41,  38,  38, ...,  56,  49,  49],\n",
       "         ..., \n",
       "         [ 38,  37,  37, ...,  43,  45,  46],\n",
       "         [ 38,  37,  37, ...,  47,  45,  46],\n",
       "         [ 38,  38,  37, ...,  44,  44,  45]]],\n",
       "\n",
       "\n",
       "       [[[ 41,  43,  43, ...,  62,  61,  58],\n",
       "         [ 43,  45,  46, ...,  88,  61,  60],\n",
       "         [ 45,  45,  46, ..., 131,  69,  58],\n",
       "         ..., \n",
       "         [165, 160, 148, ..., 230, 228, 238],\n",
       "         [162, 161, 148, ..., 237, 244, 252],\n",
       "         [157, 159, 150, ..., 248, 252, 242]],\n",
       "\n",
       "        [[ 29,  28,  26, ...,  42,  39,  35],\n",
       "         [ 29,  28,  28, ...,  68,  40,  37],\n",
       "         [ 28,  27,  27, ..., 113,  50,  37],\n",
       "         ..., \n",
       "         [155, 147, 132, ..., 207, 201, 203],\n",
       "         [152, 150, 135, ..., 212, 222, 225],\n",
       "         [147, 149, 140, ..., 216, 225, 208]],\n",
       "\n",
       "        [[ 21,  20,  16, ...,  28,  20,  16],\n",
       "         [ 21,  20,  17, ...,  56,  23,  21],\n",
       "         [ 22,  19,  17, ..., 102,  37,  24],\n",
       "         ..., \n",
       "         [145, 138, 124, ..., 196, 189, 195],\n",
       "         [142, 140, 126, ..., 203, 214, 220],\n",
       "         [137, 139, 130, ..., 212, 222, 205]]],\n",
       "\n",
       "\n",
       "       [[[161, 172, 176, ..., 150, 158, 154],\n",
       "         [148, 147, 146, ..., 140, 143, 143],\n",
       "         [167, 176, 170, ..., 153, 155, 154],\n",
       "         ..., \n",
       "         [138, 123, 144, ..., 118, 114, 106],\n",
       "         [147, 155, 133, ..., 118, 119, 121],\n",
       "         [143, 152, 134, ..., 120, 121, 122]],\n",
       "\n",
       "        [[166, 177, 181, ..., 159, 167, 163],\n",
       "         [153, 152, 151, ..., 149, 152, 152],\n",
       "         [172, 181, 175, ..., 162, 164, 163],\n",
       "         ..., \n",
       "         [ 95,  78, 100, ..., 101,  99,  93],\n",
       "         [103, 110,  89, ..., 101, 102, 104],\n",
       "         [ 99, 107,  89, ..., 102, 102, 102]],\n",
       "\n",
       "        [[159, 170, 174, ..., 142, 150, 146],\n",
       "         [146, 145, 144, ..., 132, 135, 135],\n",
       "         [165, 174, 168, ..., 145, 147, 146],\n",
       "         ..., \n",
       "         [ 63,  46,  63, ...,  81,  80,  75],\n",
       "         [ 69,  73,  53, ...,  78,  80,  83],\n",
       "         [ 67,  72,  54, ...,  79,  78,  78]]]], dtype=uint8)"
      ]
     },
     "execution_count": 67,
     "metadata": {},
     "output_type": "execute_result"
    }
   ],
   "source": [
    "X_train[newidx]"
   ]
  },
  {
   "cell_type": "code",
   "execution_count": null,
   "metadata": {
    "collapsed": true
   },
   "outputs": [],
   "source": []
  }
 ],
 "metadata": {
  "anaconda-cloud": {},
  "kernelspec": {
   "display_name": "Python [conda env:py27]",
   "language": "python",
   "name": "conda-env-py27-py"
  },
  "language_info": {
   "codemirror_mode": {
    "name": "ipython",
    "version": 2
   },
   "file_extension": ".py",
   "mimetype": "text/x-python",
   "name": "python",
   "nbconvert_exporter": "python",
   "pygments_lexer": "ipython2",
   "version": "2.7.12"
  }
 },
 "nbformat": 4,
 "nbformat_minor": 0
}
